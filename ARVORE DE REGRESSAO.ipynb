{
 "cells": [
  {
   "cell_type": "markdown",
   "metadata": {},
   "source": [
    "#### Importando as lib, fazendo a carga da base "
   ]
  },
  {
   "cell_type": "code",
   "execution_count": 1,
   "metadata": {},
   "outputs": [],
   "source": [
    "import pandas as pd \n",
    "import numpy as np\n",
    "from sklearn.ensemble import RandomForestRegressor\n",
    "from sklearn.ensemble import GradientBoostingRegressor\n",
    "from sklearn.tree import DecisionTreeRegressor\n",
    "from sklearn.model_selection import GridSearchCV\n",
    "from sklearn.model_selection import train_test_split\n"
   ]
  },
  {
   "cell_type": "code",
   "execution_count": 2,
   "metadata": {},
   "outputs": [],
   "source": [
    "target = pd.read_csv('TARGET.csv')\n",
    "target = target.drop(columns=['Unnamed: 0'])\n",
    "explicativa = pd.read_csv('EXP.csv', sep=';')"
   ]
  },
  {
   "cell_type": "code",
   "execution_count": 3,
   "metadata": {},
   "outputs": [
    {
     "data": {
      "text/html": [
       "<div>\n",
       "<style scoped>\n",
       "    .dataframe tbody tr th:only-of-type {\n",
       "        vertical-align: middle;\n",
       "    }\n",
       "\n",
       "    .dataframe tbody tr th {\n",
       "        vertical-align: top;\n",
       "    }\n",
       "\n",
       "    .dataframe thead th {\n",
       "        text-align: right;\n",
       "    }\n",
       "</style>\n",
       "<table border=\"1\" class=\"dataframe\">\n",
       "  <thead>\n",
       "    <tr style=\"text-align: right;\">\n",
       "      <th></th>\n",
       "      <th>VL_MED_FAM</th>\n",
       "    </tr>\n",
       "  </thead>\n",
       "  <tbody>\n",
       "    <tr>\n",
       "      <th>0</th>\n",
       "      <td>0</td>\n",
       "    </tr>\n",
       "    <tr>\n",
       "      <th>1</th>\n",
       "      <td>0</td>\n",
       "    </tr>\n",
       "    <tr>\n",
       "      <th>2</th>\n",
       "      <td>0</td>\n",
       "    </tr>\n",
       "    <tr>\n",
       "      <th>3</th>\n",
       "      <td>0</td>\n",
       "    </tr>\n",
       "    <tr>\n",
       "      <th>4</th>\n",
       "      <td>100</td>\n",
       "    </tr>\n",
       "  </tbody>\n",
       "</table>\n",
       "</div>"
      ],
      "text/plain": [
       "   VL_MED_FAM\n",
       "0           0\n",
       "1           0\n",
       "2           0\n",
       "3           0\n",
       "4         100"
      ]
     },
     "execution_count": 3,
     "metadata": {},
     "output_type": "execute_result"
    }
   ],
   "source": [
    "target.head(5)"
   ]
  },
  {
   "cell_type": "code",
   "execution_count": 4,
   "metadata": {},
   "outputs": [
    {
     "data": {
      "text/html": [
       "<div>\n",
       "<style scoped>\n",
       "    .dataframe tbody tr th:only-of-type {\n",
       "        vertical-align: middle;\n",
       "    }\n",
       "\n",
       "    .dataframe tbody tr th {\n",
       "        vertical-align: top;\n",
       "    }\n",
       "\n",
       "    .dataframe thead th {\n",
       "        text-align: right;\n",
       "    }\n",
       "</style>\n",
       "<table border=\"1\" class=\"dataframe\">\n",
       "  <thead>\n",
       "    <tr style=\"text-align: right;\">\n",
       "      <th></th>\n",
       "      <th>SEXO_RESP_M</th>\n",
       "      <th>UF_Bahia</th>\n",
       "      <th>UF_Ceará</th>\n",
       "      <th>UF_Maranhão</th>\n",
       "      <th>UF_Paraíba</th>\n",
       "      <th>UF_Pernambuco</th>\n",
       "      <th>UF_Piauí</th>\n",
       "      <th>UF_Rio_Grande_do_Norte</th>\n",
       "      <th>UF_Sergipe</th>\n",
       "      <th>MESORREGIAO_MES2</th>\n",
       "      <th>...</th>\n",
       "      <th>ENSINO_Nenhum</th>\n",
       "      <th>ENSINO_PréVestibulareSuperior</th>\n",
       "      <th>RENDAS_S</th>\n",
       "      <th>QTD_COMODO_DOMIC_FAM</th>\n",
       "      <th>QTD_DORM_FAM</th>\n",
       "      <th>QTD_PESSOA</th>\n",
       "      <th>QTD_MASC</th>\n",
       "      <th>RENDA_PROV_TRAB_REG</th>\n",
       "      <th>PERIODO_MAX_TRAB_MEMB</th>\n",
       "      <th>MEDIA_IDADE</th>\n",
       "    </tr>\n",
       "  </thead>\n",
       "  <tbody>\n",
       "    <tr>\n",
       "      <th>0</th>\n",
       "      <td>1</td>\n",
       "      <td>0</td>\n",
       "      <td>0</td>\n",
       "      <td>1</td>\n",
       "      <td>0</td>\n",
       "      <td>0</td>\n",
       "      <td>0</td>\n",
       "      <td>0</td>\n",
       "      <td>0</td>\n",
       "      <td>0</td>\n",
       "      <td>...</td>\n",
       "      <td>0</td>\n",
       "      <td>0</td>\n",
       "      <td>0</td>\n",
       "      <td>5.0</td>\n",
       "      <td>2.0</td>\n",
       "      <td>1</td>\n",
       "      <td>1</td>\n",
       "      <td>0</td>\n",
       "      <td>0.0</td>\n",
       "      <td>32</td>\n",
       "    </tr>\n",
       "    <tr>\n",
       "      <th>1</th>\n",
       "      <td>0</td>\n",
       "      <td>0</td>\n",
       "      <td>0</td>\n",
       "      <td>1</td>\n",
       "      <td>0</td>\n",
       "      <td>0</td>\n",
       "      <td>0</td>\n",
       "      <td>0</td>\n",
       "      <td>0</td>\n",
       "      <td>0</td>\n",
       "      <td>...</td>\n",
       "      <td>0</td>\n",
       "      <td>0</td>\n",
       "      <td>0</td>\n",
       "      <td>4.0</td>\n",
       "      <td>2.0</td>\n",
       "      <td>4</td>\n",
       "      <td>2</td>\n",
       "      <td>0</td>\n",
       "      <td>0.0</td>\n",
       "      <td>27</td>\n",
       "    </tr>\n",
       "    <tr>\n",
       "      <th>2</th>\n",
       "      <td>0</td>\n",
       "      <td>0</td>\n",
       "      <td>0</td>\n",
       "      <td>1</td>\n",
       "      <td>0</td>\n",
       "      <td>0</td>\n",
       "      <td>0</td>\n",
       "      <td>0</td>\n",
       "      <td>0</td>\n",
       "      <td>0</td>\n",
       "      <td>...</td>\n",
       "      <td>1</td>\n",
       "      <td>0</td>\n",
       "      <td>0</td>\n",
       "      <td>4.0</td>\n",
       "      <td>1.0</td>\n",
       "      <td>1</td>\n",
       "      <td>0</td>\n",
       "      <td>0</td>\n",
       "      <td>0.0</td>\n",
       "      <td>35</td>\n",
       "    </tr>\n",
       "    <tr>\n",
       "      <th>3</th>\n",
       "      <td>0</td>\n",
       "      <td>0</td>\n",
       "      <td>0</td>\n",
       "      <td>1</td>\n",
       "      <td>0</td>\n",
       "      <td>0</td>\n",
       "      <td>0</td>\n",
       "      <td>0</td>\n",
       "      <td>0</td>\n",
       "      <td>0</td>\n",
       "      <td>...</td>\n",
       "      <td>0</td>\n",
       "      <td>0</td>\n",
       "      <td>0</td>\n",
       "      <td>1.0</td>\n",
       "      <td>1.0</td>\n",
       "      <td>2</td>\n",
       "      <td>1</td>\n",
       "      <td>0</td>\n",
       "      <td>0.0</td>\n",
       "      <td>10</td>\n",
       "    </tr>\n",
       "    <tr>\n",
       "      <th>4</th>\n",
       "      <td>1</td>\n",
       "      <td>0</td>\n",
       "      <td>0</td>\n",
       "      <td>1</td>\n",
       "      <td>0</td>\n",
       "      <td>0</td>\n",
       "      <td>0</td>\n",
       "      <td>0</td>\n",
       "      <td>0</td>\n",
       "      <td>0</td>\n",
       "      <td>...</td>\n",
       "      <td>0</td>\n",
       "      <td>0</td>\n",
       "      <td>1</td>\n",
       "      <td>5.0</td>\n",
       "      <td>3.0</td>\n",
       "      <td>5</td>\n",
       "      <td>3</td>\n",
       "      <td>0</td>\n",
       "      <td>0.0</td>\n",
       "      <td>21</td>\n",
       "    </tr>\n",
       "    <tr>\n",
       "      <th>...</th>\n",
       "      <td>...</td>\n",
       "      <td>...</td>\n",
       "      <td>...</td>\n",
       "      <td>...</td>\n",
       "      <td>...</td>\n",
       "      <td>...</td>\n",
       "      <td>...</td>\n",
       "      <td>...</td>\n",
       "      <td>...</td>\n",
       "      <td>...</td>\n",
       "      <td>...</td>\n",
       "      <td>...</td>\n",
       "      <td>...</td>\n",
       "      <td>...</td>\n",
       "      <td>...</td>\n",
       "      <td>...</td>\n",
       "      <td>...</td>\n",
       "      <td>...</td>\n",
       "      <td>...</td>\n",
       "      <td>...</td>\n",
       "      <td>...</td>\n",
       "    </tr>\n",
       "    <tr>\n",
       "      <th>126249</th>\n",
       "      <td>1</td>\n",
       "      <td>1</td>\n",
       "      <td>0</td>\n",
       "      <td>0</td>\n",
       "      <td>0</td>\n",
       "      <td>0</td>\n",
       "      <td>0</td>\n",
       "      <td>0</td>\n",
       "      <td>0</td>\n",
       "      <td>0</td>\n",
       "      <td>...</td>\n",
       "      <td>0</td>\n",
       "      <td>0</td>\n",
       "      <td>0</td>\n",
       "      <td>6.0</td>\n",
       "      <td>3.0</td>\n",
       "      <td>1</td>\n",
       "      <td>1</td>\n",
       "      <td>0</td>\n",
       "      <td>0.0</td>\n",
       "      <td>66</td>\n",
       "    </tr>\n",
       "    <tr>\n",
       "      <th>126250</th>\n",
       "      <td>1</td>\n",
       "      <td>1</td>\n",
       "      <td>0</td>\n",
       "      <td>0</td>\n",
       "      <td>0</td>\n",
       "      <td>0</td>\n",
       "      <td>0</td>\n",
       "      <td>0</td>\n",
       "      <td>0</td>\n",
       "      <td>0</td>\n",
       "      <td>...</td>\n",
       "      <td>1</td>\n",
       "      <td>0</td>\n",
       "      <td>0</td>\n",
       "      <td>6.0</td>\n",
       "      <td>3.0</td>\n",
       "      <td>1</td>\n",
       "      <td>1</td>\n",
       "      <td>0</td>\n",
       "      <td>0.0</td>\n",
       "      <td>74</td>\n",
       "    </tr>\n",
       "    <tr>\n",
       "      <th>126251</th>\n",
       "      <td>1</td>\n",
       "      <td>1</td>\n",
       "      <td>0</td>\n",
       "      <td>0</td>\n",
       "      <td>0</td>\n",
       "      <td>0</td>\n",
       "      <td>0</td>\n",
       "      <td>0</td>\n",
       "      <td>0</td>\n",
       "      <td>0</td>\n",
       "      <td>...</td>\n",
       "      <td>0</td>\n",
       "      <td>0</td>\n",
       "      <td>0</td>\n",
       "      <td>3.0</td>\n",
       "      <td>2.0</td>\n",
       "      <td>2</td>\n",
       "      <td>1</td>\n",
       "      <td>0</td>\n",
       "      <td>0.0</td>\n",
       "      <td>67</td>\n",
       "    </tr>\n",
       "    <tr>\n",
       "      <th>126252</th>\n",
       "      <td>0</td>\n",
       "      <td>1</td>\n",
       "      <td>0</td>\n",
       "      <td>0</td>\n",
       "      <td>0</td>\n",
       "      <td>0</td>\n",
       "      <td>0</td>\n",
       "      <td>0</td>\n",
       "      <td>0</td>\n",
       "      <td>0</td>\n",
       "      <td>...</td>\n",
       "      <td>1</td>\n",
       "      <td>0</td>\n",
       "      <td>0</td>\n",
       "      <td>5.0</td>\n",
       "      <td>2.0</td>\n",
       "      <td>2</td>\n",
       "      <td>1</td>\n",
       "      <td>0</td>\n",
       "      <td>0.0</td>\n",
       "      <td>59</td>\n",
       "    </tr>\n",
       "    <tr>\n",
       "      <th>126253</th>\n",
       "      <td>1</td>\n",
       "      <td>1</td>\n",
       "      <td>0</td>\n",
       "      <td>0</td>\n",
       "      <td>0</td>\n",
       "      <td>0</td>\n",
       "      <td>0</td>\n",
       "      <td>0</td>\n",
       "      <td>0</td>\n",
       "      <td>0</td>\n",
       "      <td>...</td>\n",
       "      <td>0</td>\n",
       "      <td>0</td>\n",
       "      <td>0</td>\n",
       "      <td>6.0</td>\n",
       "      <td>3.0</td>\n",
       "      <td>2</td>\n",
       "      <td>1</td>\n",
       "      <td>954</td>\n",
       "      <td>12.0</td>\n",
       "      <td>65</td>\n",
       "    </tr>\n",
       "  </tbody>\n",
       "</table>\n",
       "<p>126254 rows × 55 columns</p>\n",
       "</div>"
      ],
      "text/plain": [
       "        SEXO_RESP_M  UF_Bahia  UF_Ceará  UF_Maranhão  UF_Paraíba  \\\n",
       "0                 1         0         0            1           0   \n",
       "1                 0         0         0            1           0   \n",
       "2                 0         0         0            1           0   \n",
       "3                 0         0         0            1           0   \n",
       "4                 1         0         0            1           0   \n",
       "...             ...       ...       ...          ...         ...   \n",
       "126249            1         1         0            0           0   \n",
       "126250            1         1         0            0           0   \n",
       "126251            1         1         0            0           0   \n",
       "126252            0         1         0            0           0   \n",
       "126253            1         1         0            0           0   \n",
       "\n",
       "        UF_Pernambuco  UF_Piauí  UF_Rio_Grande_do_Norte  UF_Sergipe  \\\n",
       "0                   0         0                       0           0   \n",
       "1                   0         0                       0           0   \n",
       "2                   0         0                       0           0   \n",
       "3                   0         0                       0           0   \n",
       "4                   0         0                       0           0   \n",
       "...               ...       ...                     ...         ...   \n",
       "126249              0         0                       0           0   \n",
       "126250              0         0                       0           0   \n",
       "126251              0         0                       0           0   \n",
       "126252              0         0                       0           0   \n",
       "126253              0         0                       0           0   \n",
       "\n",
       "        MESORREGIAO_MES2  ...  ENSINO_Nenhum  ENSINO_PréVestibulareSuperior  \\\n",
       "0                      0  ...              0                              0   \n",
       "1                      0  ...              0                              0   \n",
       "2                      0  ...              1                              0   \n",
       "3                      0  ...              0                              0   \n",
       "4                      0  ...              0                              0   \n",
       "...                  ...  ...            ...                            ...   \n",
       "126249                 0  ...              0                              0   \n",
       "126250                 0  ...              1                              0   \n",
       "126251                 0  ...              0                              0   \n",
       "126252                 0  ...              1                              0   \n",
       "126253                 0  ...              0                              0   \n",
       "\n",
       "        RENDAS_S  QTD_COMODO_DOMIC_FAM  QTD_DORM_FAM  QTD_PESSOA  QTD_MASC  \\\n",
       "0              0                   5.0           2.0           1         1   \n",
       "1              0                   4.0           2.0           4         2   \n",
       "2              0                   4.0           1.0           1         0   \n",
       "3              0                   1.0           1.0           2         1   \n",
       "4              1                   5.0           3.0           5         3   \n",
       "...          ...                   ...           ...         ...       ...   \n",
       "126249         0                   6.0           3.0           1         1   \n",
       "126250         0                   6.0           3.0           1         1   \n",
       "126251         0                   3.0           2.0           2         1   \n",
       "126252         0                   5.0           2.0           2         1   \n",
       "126253         0                   6.0           3.0           2         1   \n",
       "\n",
       "        RENDA_PROV_TRAB_REG  PERIODO_MAX_TRAB_MEMB  MEDIA_IDADE  \n",
       "0                         0                    0.0           32  \n",
       "1                         0                    0.0           27  \n",
       "2                         0                    0.0           35  \n",
       "3                         0                    0.0           10  \n",
       "4                         0                    0.0           21  \n",
       "...                     ...                    ...          ...  \n",
       "126249                    0                    0.0           66  \n",
       "126250                    0                    0.0           74  \n",
       "126251                    0                    0.0           67  \n",
       "126252                    0                    0.0           59  \n",
       "126253                  954                   12.0           65  \n",
       "\n",
       "[126254 rows x 55 columns]"
      ]
     },
     "execution_count": 4,
     "metadata": {},
     "output_type": "execute_result"
    }
   ],
   "source": [
    "explicativa = explicativa.drop(columns=['Unnamed: 0'])\n",
    "explicativa"
   ]
  },
  {
   "cell_type": "code",
   "execution_count": 5,
   "metadata": {},
   "outputs": [
    {
     "data": {
      "text/plain": [
       "((88377, 55), (37877, 55), (88377, 1), (37877, 1))"
      ]
     },
     "execution_count": 5,
     "metadata": {},
     "output_type": "execute_result"
    }
   ],
   "source": [
    "x_treino, x_teste, y_treino, y_teste = train_test_split (explicativa,\n",
    "                                                         target,\n",
    "                                                         test_size=0.3,\n",
    "                                                         random_state=42)\n",
    "\n",
    "x_treino.shape,x_teste.shape, y_treino.shape, y_teste.shape"
   ]
  },
  {
   "cell_type": "code",
   "execution_count": 6,
   "metadata": {},
   "outputs": [
    {
     "data": {
      "text/plain": [
       "Index(['SEXO_RESP_M', 'UF_Bahia', 'UF_Ceará', 'UF_Maranhão', 'UF_Paraíba',\n",
       "       'UF_Pernambuco', 'UF_Piauí', 'UF_Rio_Grande_do_Norte', 'UF_Sergipe',\n",
       "       'MESORREGIAO_MES2', 'MESORREGIAO_MES3', 'MESORREGIAO_MES4',\n",
       "       'MESORREGIAO_MES5', 'MESORREGIAO_MES6', 'MESORREGIAO_MES7',\n",
       "       'MESORREGIAO_MES8', 'LOCAL_DOM_FAM_Urbana', 'MAT_PISO_FAMILIA_Cimento',\n",
       "       'MAT_PISO_FAMILIA_Outro_Material', 'MATERIA_CONSTRUCAO_CAT_A',\n",
       "       'AGUA_ENCANADA_Sim', 'ABASTECIMENTO_Demais',\n",
       "       'ABASTECIMENTO_Rede_geral_de_distribuição', 'TEM_BANHEIRO_Sim',\n",
       "       'ESCOAMENTO_SANITARIO_Fossa_séptica',\n",
       "       'ESCOAMENTO_SANITARIO_Não_identificado',\n",
       "       'ESCOAMENTO_SANITARIO_Outro_Meio',\n",
       "       'ESCOAMENTO_SANITARIO_Rede_coletora_de_esgoto_ou_pluvial',\n",
       "       'DESTINO_LIXO_É_coletado_diretamente',\n",
       "       'DESTINO_LIXO_É_coletado_indiretamente',\n",
       "       'DESTINO_LIXO_É_queimado_ou_enterrado_na_propriedade',\n",
       "       'CALCAMENTO_Parcial', 'CALCAMENTO_Total', 'CLASSE_CIDADE_Outros',\n",
       "       'CLASSE_CIDADE_Região_Metropolitana', 'ANALFABETO2_S',\n",
       "       'MENOR_ESTUDA_Todos_Menores_Estudam',\n",
       "       'MENOR_ESTUDA_Todos_Menores_Não_Estudam',\n",
       "       'MENOR_ESTUDA_s_idade_algum_n_estuda', 'TM_BF_1', 'COR_IAP',\n",
       "       'COR_Mais_de_uma', 'COR_Parda', 'ENSINO_Medio', 'ENSINO_NAO_INFORMADO',\n",
       "       'ENSINO_Nenhum', 'ENSINO_PréVestibulareSuperior', 'RENDAS_S',\n",
       "       'QTD_COMODO_DOMIC_FAM', 'QTD_DORM_FAM', 'QTD_PESSOA', 'QTD_MASC',\n",
       "       'RENDA_PROV_TRAB_REG', 'PERIODO_MAX_TRAB_MEMB', 'MEDIA_IDADE'],\n",
       "      dtype='object')"
      ]
     },
     "execution_count": 6,
     "metadata": {},
     "output_type": "execute_result"
    }
   ],
   "source": [
    "x_treino.columns"
   ]
  },
  {
   "cell_type": "markdown",
   "metadata": {},
   "source": [
    "### Seleciona variável\n",
    "##### procurando variáveis interessantes para o modelo "
   ]
  },
  {
   "cell_type": "code",
   "execution_count": 7,
   "metadata": {},
   "outputs": [],
   "source": [
    "from sklearn.feature_selection import SelectKBest\n",
    "from sklearn.feature_selection import chi2\n",
    "from sklearn.feature_selection import RFE #recursive feature eliminate\n",
    "from sklearn.linear_model import LinearRegression\n",
    "from sklearn.feature_selection import SelectFromModel\n",
    "from sklearn.ensemble import RandomForestRegressor"
   ]
  },
  {
   "cell_type": "code",
   "execution_count": 8,
   "metadata": {},
   "outputs": [],
   "source": [
    "best_select = SelectKBest(chi2, k=5)\n",
    "best_select.fit(explicativa, target)\n",
    "chi_select = best_select.get_support()"
   ]
  },
  {
   "cell_type": "code",
   "execution_count": 9,
   "metadata": {},
   "outputs": [],
   "source": [
    "rfe_sel =  RFE(estimator=LinearRegression(fit_intercept=True),\n",
    "                   step=10,\n",
    "                   n_features_to_select=5)\n",
    "rfe_sel.fit(explicativa,target)\n",
    "log_sel = rfe_sel.get_support()"
   ]
  },
  {
   "cell_type": "code",
   "execution_count": 10,
   "metadata": {},
   "outputs": [
    {
     "name": "stderr",
     "output_type": "stream",
     "text": [
      "C:\\ProgramData\\Anaconda3\\lib\\site-packages\\sklearn\\feature_selection\\_from_model.py:224: DataConversionWarning: A column-vector y was passed when a 1d array was expected. Please change the shape of y to (n_samples,), for example using ravel().\n",
      "  self.estimator_.fit(X, y, **fit_params)\n"
     ]
    }
   ],
   "source": [
    "rfr = SelectFromModel(RandomForestRegressor(random_state=42, n_estimators=100))\n",
    "rfr_sel = rfr.fit(explicativa, target)\n",
    "rfr_select = rfr_sel.get_support()"
   ]
  },
  {
   "cell_type": "code",
   "execution_count": 11,
   "metadata": {},
   "outputs": [
    {
     "data": {
      "text/plain": [
       "(array([False, False, False, False, False, False, False, False, False,\n",
       "        False, False, False, False, False, False, False, False, False,\n",
       "        False, False, False, False, False, False, False, False, False,\n",
       "        False, False, False, False, False, False, False, False, False,\n",
       "        False, False, False,  True, False, False, False, False, False,\n",
       "        False, False,  True, False, False, False, False,  True,  True,\n",
       "         True]),\n",
       " array([False, False, False, False, False, False, False, False, False,\n",
       "        False, False, False, False, False, False, False, False, False,\n",
       "        False, False, False, False, False,  True, False,  True, False,\n",
       "        False, False, False, False, False, False, False, False, False,\n",
       "        False, False, False,  True, False, False, False, False, False,\n",
       "         True, False,  True, False, False, False, False, False, False,\n",
       "        False]),\n",
       " array([False, False, False, False, False, False, False, False, False,\n",
       "        False, False, False, False, False, False, False, False, False,\n",
       "        False, False, False, False, False, False, False, False, False,\n",
       "        False, False, False, False, False, False, False, False, False,\n",
       "        False, False, False,  True, False, False, False, False, False,\n",
       "        False, False,  True, False, False,  True, False,  True,  True,\n",
       "         True]))"
      ]
     },
     "execution_count": 11,
     "metadata": {},
     "output_type": "execute_result"
    }
   ],
   "source": [
    "chi_select, log_sel, rfr_select "
   ]
  },
  {
   "cell_type": "code",
   "execution_count": 12,
   "metadata": {},
   "outputs": [
    {
     "data": {
      "text/plain": [
       "(Index(['TM_BF_1', 'RENDAS_S', 'RENDA_PROV_TRAB_REG', 'PERIODO_MAX_TRAB_MEMB',\n",
       "        'MEDIA_IDADE'],\n",
       "       dtype='object'),\n",
       " Index(['TEM_BANHEIRO_Sim', 'ESCOAMENTO_SANITARIO_Não_identificado', 'TM_BF_1',\n",
       "        'ENSINO_Nenhum', 'RENDAS_S'],\n",
       "       dtype='object'),\n",
       " Index(['TM_BF_1', 'RENDAS_S', 'QTD_PESSOA', 'RENDA_PROV_TRAB_REG',\n",
       "        'PERIODO_MAX_TRAB_MEMB', 'MEDIA_IDADE'],\n",
       "       dtype='object'))"
      ]
     },
     "execution_count": 12,
     "metadata": {},
     "output_type": "execute_result"
    }
   ],
   "source": [
    "col = explicativa.columns\n",
    "col[chi_select], col[log_sel], col[rfr_select]"
   ]
  },
  {
   "cell_type": "markdown",
   "metadata": {},
   "source": [
    "## other "
   ]
  },
  {
   "cell_type": "code",
   "execution_count": 13,
   "metadata": {},
   "outputs": [],
   "source": [
    "var_sel = x_treino[['TM_BF_1',\n",
    "'RENDAS_S',\n",
    "'RENDA_PROV_TRAB_REG',\n",
    "'PERIODO_MAX_TRAB_MEMB',\n",
    "'MEDIA_IDADE',\n",
    "'ENSINO_Medio',\n",
    "'ENSINO_NAO_INFORMADO',\n",
    "'ENSINO_Nenhum',\n",
    "'ENSINO_PréVestibulareSuperior',\n",
    "'QTD_PESSOA' ,\n",
    "'MAT_PISO_FAMILIA_Cimento',\n",
    "'MAT_PISO_FAMILIA_Outro_Material',]]"
   ]
  },
  {
   "cell_type": "code",
   "execution_count": 14,
   "metadata": {},
   "outputs": [],
   "source": [
    "dtr = DecisionTreeRegressor(criterion='mae',max_depth=10\n",
    "                           )"
   ]
  },
  {
   "cell_type": "code",
   "execution_count": 15,
   "metadata": {
    "scrolled": false
   },
   "outputs": [],
   "source": [
    "ft = dtr.fit(var_sel,y_treino)"
   ]
  },
  {
   "cell_type": "code",
   "execution_count": 16,
   "metadata": {},
   "outputs": [
    {
     "data": {
      "text/plain": [
       "0.8229010615354362"
      ]
     },
     "execution_count": 16,
     "metadata": {},
     "output_type": "execute_result"
    }
   ],
   "source": [
    "ft.score(var_sel, y_treino)"
   ]
  },
  {
   "cell_type": "code",
   "execution_count": 17,
   "metadata": {},
   "outputs": [],
   "source": [
    "pred = ft.predict(var_sel)"
   ]
  },
  {
   "cell_type": "code",
   "execution_count": 18,
   "metadata": {},
   "outputs": [
    {
     "data": {
      "text/html": [
       "<div>\n",
       "<style scoped>\n",
       "    .dataframe tbody tr th:only-of-type {\n",
       "        vertical-align: middle;\n",
       "    }\n",
       "\n",
       "    .dataframe tbody tr th {\n",
       "        vertical-align: top;\n",
       "    }\n",
       "\n",
       "    .dataframe thead th {\n",
       "        text-align: right;\n",
       "    }\n",
       "</style>\n",
       "<table border=\"1\" class=\"dataframe\">\n",
       "  <thead>\n",
       "    <tr style=\"text-align: right;\">\n",
       "      <th></th>\n",
       "      <th>pred</th>\n",
       "      <th>real</th>\n",
       "      <th>residuo</th>\n",
       "    </tr>\n",
       "  </thead>\n",
       "  <tbody>\n",
       "    <tr>\n",
       "      <th>0</th>\n",
       "      <td>0.0</td>\n",
       "      <td>0</td>\n",
       "      <td>0.0</td>\n",
       "    </tr>\n",
       "    <tr>\n",
       "      <th>1</th>\n",
       "      <td>954.0</td>\n",
       "      <td>477</td>\n",
       "      <td>-477.0</td>\n",
       "    </tr>\n",
       "    <tr>\n",
       "      <th>2</th>\n",
       "      <td>381.0</td>\n",
       "      <td>381</td>\n",
       "      <td>0.0</td>\n",
       "    </tr>\n",
       "    <tr>\n",
       "      <th>3</th>\n",
       "      <td>16.0</td>\n",
       "      <td>13</td>\n",
       "      <td>-3.0</td>\n",
       "    </tr>\n",
       "    <tr>\n",
       "      <th>4</th>\n",
       "      <td>954.0</td>\n",
       "      <td>954</td>\n",
       "      <td>0.0</td>\n",
       "    </tr>\n",
       "  </tbody>\n",
       "</table>\n",
       "</div>"
      ],
      "text/plain": [
       "    pred  real  residuo\n",
       "0    0.0     0      0.0\n",
       "1  954.0   477   -477.0\n",
       "2  381.0   381      0.0\n",
       "3   16.0    13     -3.0\n",
       "4  954.0   954      0.0"
      ]
     },
     "execution_count": 18,
     "metadata": {},
     "output_type": "execute_result"
    }
   ],
   "source": [
    "dados = pd.DataFrame()\n",
    "dados['pred'] = pred.tolist()\n",
    "dados['real'] = y_treino.VL_MED_FAM.tolist()\n",
    "dados['residuo'] = dados.real - dados.pred\n",
    "dados.head()"
   ]
  },
  {
   "cell_type": "code",
   "execution_count": 19,
   "metadata": {},
   "outputs": [],
   "source": [
    "var_test = x_teste[['TM_BF_1',\n",
    "'RENDAS_S',\n",
    "'RENDA_PROV_TRAB_REG',\n",
    "'PERIODO_MAX_TRAB_MEMB',\n",
    "'MEDIA_IDADE',\n",
    "'ENSINO_Medio',\n",
    "'ENSINO_NAO_INFORMADO',\n",
    "'ENSINO_Nenhum',\n",
    "'ENSINO_PréVestibulareSuperior',\n",
    "'QTD_PESSOA' ,\n",
    "'MAT_PISO_FAMILIA_Cimento',\n",
    "'MAT_PISO_FAMILIA_Outro_Material',]]"
   ]
  },
  {
   "cell_type": "code",
   "execution_count": 20,
   "metadata": {},
   "outputs": [],
   "source": [
    "predtst = ft.predict(var_test)"
   ]
  },
  {
   "cell_type": "code",
   "execution_count": 21,
   "metadata": {},
   "outputs": [
    {
     "data": {
      "text/html": [
       "<div>\n",
       "<style scoped>\n",
       "    .dataframe tbody tr th:only-of-type {\n",
       "        vertical-align: middle;\n",
       "    }\n",
       "\n",
       "    .dataframe tbody tr th {\n",
       "        vertical-align: top;\n",
       "    }\n",
       "\n",
       "    .dataframe thead th {\n",
       "        text-align: right;\n",
       "    }\n",
       "</style>\n",
       "<table border=\"1\" class=\"dataframe\">\n",
       "  <thead>\n",
       "    <tr style=\"text-align: right;\">\n",
       "      <th></th>\n",
       "      <th>pred</th>\n",
       "      <th>real</th>\n",
       "      <th>residuo</th>\n",
       "    </tr>\n",
       "  </thead>\n",
       "  <tbody>\n",
       "    <tr>\n",
       "      <th>0</th>\n",
       "      <td>50.0</td>\n",
       "      <td>62</td>\n",
       "      <td>12.0</td>\n",
       "    </tr>\n",
       "    <tr>\n",
       "      <th>1</th>\n",
       "      <td>0.0</td>\n",
       "      <td>0</td>\n",
       "      <td>0.0</td>\n",
       "    </tr>\n",
       "    <tr>\n",
       "      <th>2</th>\n",
       "      <td>477.0</td>\n",
       "      <td>477</td>\n",
       "      <td>0.0</td>\n",
       "    </tr>\n",
       "    <tr>\n",
       "      <th>3</th>\n",
       "      <td>318.0</td>\n",
       "      <td>484</td>\n",
       "      <td>166.0</td>\n",
       "    </tr>\n",
       "    <tr>\n",
       "      <th>4</th>\n",
       "      <td>210.0</td>\n",
       "      <td>190</td>\n",
       "      <td>-20.0</td>\n",
       "    </tr>\n",
       "  </tbody>\n",
       "</table>\n",
       "</div>"
      ],
      "text/plain": [
       "    pred  real  residuo\n",
       "0   50.0    62     12.0\n",
       "1    0.0     0      0.0\n",
       "2  477.0   477      0.0\n",
       "3  318.0   484    166.0\n",
       "4  210.0   190    -20.0"
      ]
     },
     "execution_count": 21,
     "metadata": {},
     "output_type": "execute_result"
    }
   ],
   "source": [
    "dadost = pd.DataFrame()\n",
    "dadost['pred'] = predtst.tolist()\n",
    "dadost['real'] = y_teste.VL_MED_FAM.tolist()\n",
    "dadost['residuo'] = dadost.real - dadost.pred\n",
    "dadost.head()"
   ]
  },
  {
   "cell_type": "markdown",
   "metadata": {},
   "source": [
    "### <font color=green> <strong> Metricas</strong> </font> \n"
   ]
  },
  {
   "cell_type": "code",
   "execution_count": 22,
   "metadata": {},
   "outputs": [
    {
     "name": "stdout",
     "output_type": "stream",
     "text": [
      "59.40863573101599 62.139226971513054\n"
     ]
    }
   ],
   "source": [
    "from sklearn.metrics import mean_absolute_error\n",
    "from sklearn.utils.validation import check_array\n",
    "print(mean_absolute_error(dados.real,dados.pred),mean_absolute_error(dadost.real,dadost.pred))\n",
    "\n"
   ]
  },
  {
   "cell_type": "code",
   "execution_count": 23,
   "metadata": {},
   "outputs": [
    {
     "name": "stdout",
     "output_type": "stream",
     "text": [
      "0.8229010615354362 , 0.812996617006321\n"
     ]
    }
   ],
   "source": [
    "print('{} , {}'.format(ft.score(var_sel,y_treino), ft.score(var_test, y_teste)))"
   ]
  },
  {
   "cell_type": "markdown",
   "metadata": {},
   "source": [
    "# Salvando"
   ]
  },
  {
   "cell_type": "code",
   "execution_count": null,
   "metadata": {},
   "outputs": [],
   "source": [
    "import joblib\n"
   ]
  },
  {
   "cell_type": "code",
   "execution_count": null,
   "metadata": {},
   "outputs": [],
   "source": [
    "joblib.dump(ft,\n",
    "           'arvore.pkl',\n",
    "            compress = 1)"
   ]
  },
  {
   "cell_type": "code",
   "execution_count": null,
   "metadata": {},
   "outputs": [],
   "source": [
    "\n",
    "modelo_salvo = open('arvore.pkl','rb')\n",
    "scoring = joblib.load(modelo_salvo)"
   ]
  },
  {
   "cell_type": "code",
   "execution_count": null,
   "metadata": {},
   "outputs": [],
   "source": [
    "scoring.predict(var_test)"
   ]
  },
  {
   "cell_type": "markdown",
   "metadata": {},
   "source": [
    "# residuo "
   ]
  },
  {
   "cell_type": "code",
   "execution_count": 24,
   "metadata": {
    "scrolled": false
   },
   "outputs": [
    {
     "data": {
      "text/plain": [
       "(array([6.0000e+00, 4.7600e+02, 2.2000e+01, 2.3600e+02, 1.6940e+03,\n",
       "        4.0320e+03, 7.5754e+04, 2.7920e+03, 2.0910e+03, 3.0500e+02,\n",
       "        2.4500e+02, 6.1100e+02, 4.1000e+01, 2.5000e+01, 2.0000e+01,\n",
       "        1.9000e+01, 7.0000e+00, 0.0000e+00, 0.0000e+00, 1.0000e+00]),\n",
       " array([-1262.5  , -1066.275,  -870.05 ,  -673.825,  -477.6  ,  -281.375,\n",
       "          -85.15 ,   111.075,   307.3  ,   503.525,   699.75 ,   895.975,\n",
       "         1092.2  ,  1288.425,  1484.65 ,  1680.875,  1877.1  ,  2073.325,\n",
       "         2269.55 ,  2465.775,  2662.   ]),\n",
       " <a list of 20 Patch objects>)"
      ]
     },
     "execution_count": 24,
     "metadata": {},
     "output_type": "execute_result"
    },
    {
     "data": {
      "image/png": "[encoded data removed]",
      "text/plain": [
       "<Figure size 720x720 with 1 Axes>"
      ]
     },
     "metadata": {
      "needs_background": "light"
     },
     "output_type": "display_data"
    }
   ],
   "source": [
    "import matplotlib.pyplot as plt \n",
    "plt.subplots(1,1,figsize=(10,10))\n",
    "plt.hist(dados.residuo, color='#6ADBD9', bins=20)\n"
   ]
  },
  {
   "cell_type": "code",
   "execution_count": null,
   "metadata": {},
   "outputs": [],
   "source": []
  },
  {
   "cell_type": "code",
   "execution_count": null,
   "metadata": {},
   "outputs": [],
   "source": []
  }
 ],
 "metadata": {
  "kernelspec": {
   "display_name": "Python 3",
   "language": "python",
   "name": "python3"
  },
  "language_info": {
   "codemirror_mode": {
    "name": "ipython",
    "version": 3
   },
   "file_extension": ".py",
   "mimetype": "text/x-python",
   "name": "python",
   "nbconvert_exporter": "python",
   "pygments_lexer": "ipython3",
   "version": "3.8.3"
  }
 },
 "nbformat": 4,
 "nbformat_minor": 4
}
