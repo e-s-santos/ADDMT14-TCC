{
 "cells": [
  {
   "cell_type": "code",
   "execution_count": null,
   "metadata": {},
   "outputs": [],
   "source": [
    "#!pip install --upgrade tensorflow\n"
   ]
  },
  {
   "cell_type": "code",
   "execution_count": 1,
   "metadata": {},
   "outputs": [],
   "source": [
    "import pandas as pd \n",
    "import numpy as np \n",
    "from keras import layers\n",
    "from keras.models import Sequential\n",
    "from keras.layers import Dense\n",
    "from keras.optimizers import SGD\n",
    "from keras.layers import SimpleRNN\n",
    "from sklearn.preprocessing import StandardScaler\n",
    "from keras.layers import LeakyReLU\n",
    "from keras.callbacks import EarlyStopping"
   ]
  },
  {
   "cell_type": "code",
   "execution_count": 2,
   "metadata": {},
   "outputs": [],
   "source": [
    "target = pd.read_csv('TARGET.csv')\n",
    "target = target.drop(columns=['Unnamed: 0'])\n",
    "explicativa = pd.read_csv('EXP.csv', sep=';')\n",
    "explicativa = explicativa.drop(columns=['Unnamed: 0'])"
   ]
  },
  {
   "cell_type": "code",
   "execution_count": 3,
   "metadata": {},
   "outputs": [
    {
     "data": {
      "text/html": [
       "<div>\n",
       "<style scoped>\n",
       "    .dataframe tbody tr th:only-of-type {\n",
       "        vertical-align: middle;\n",
       "    }\n",
       "\n",
       "    .dataframe tbody tr th {\n",
       "        vertical-align: top;\n",
       "    }\n",
       "\n",
       "    .dataframe thead th {\n",
       "        text-align: right;\n",
       "    }\n",
       "</style>\n",
       "<table border=\"1\" class=\"dataframe\">\n",
       "  <thead>\n",
       "    <tr style=\"text-align: right;\">\n",
       "      <th></th>\n",
       "      <th>VL_MED_FAM</th>\n",
       "    </tr>\n",
       "  </thead>\n",
       "  <tbody>\n",
       "    <tr>\n",
       "      <th>0</th>\n",
       "      <td>0</td>\n",
       "    </tr>\n",
       "    <tr>\n",
       "      <th>1</th>\n",
       "      <td>0</td>\n",
       "    </tr>\n",
       "    <tr>\n",
       "      <th>2</th>\n",
       "      <td>0</td>\n",
       "    </tr>\n",
       "    <tr>\n",
       "      <th>3</th>\n",
       "      <td>0</td>\n",
       "    </tr>\n",
       "    <tr>\n",
       "      <th>4</th>\n",
       "      <td>100</td>\n",
       "    </tr>\n",
       "    <tr>\n",
       "      <th>5</th>\n",
       "      <td>100</td>\n",
       "    </tr>\n",
       "    <tr>\n",
       "      <th>6</th>\n",
       "      <td>100</td>\n",
       "    </tr>\n",
       "    <tr>\n",
       "      <th>7</th>\n",
       "      <td>100</td>\n",
       "    </tr>\n",
       "    <tr>\n",
       "      <th>8</th>\n",
       "      <td>100</td>\n",
       "    </tr>\n",
       "    <tr>\n",
       "      <th>9</th>\n",
       "      <td>100</td>\n",
       "    </tr>\n",
       "  </tbody>\n",
       "</table>\n",
       "</div>"
      ],
      "text/plain": [
       "   VL_MED_FAM\n",
       "0           0\n",
       "1           0\n",
       "2           0\n",
       "3           0\n",
       "4         100\n",
       "5         100\n",
       "6         100\n",
       "7         100\n",
       "8         100\n",
       "9         100"
      ]
     },
     "execution_count": 3,
     "metadata": {},
     "output_type": "execute_result"
    }
   ],
   "source": [
    "explicativa_norm = explicativa.copy()\n",
    "target_norm = target.copy()\n",
    "target_norm.head(10)"
   ]
  },
  {
   "cell_type": "code",
   "execution_count": 4,
   "metadata": {},
   "outputs": [],
   "source": [
    "from sklearn.preprocessing import StandardScaler\n",
    "scaler = StandardScaler()\n",
    "\n",
    "for c in explicativa_norm.columns:\n",
    "    explicativa_norm[c] = scaler.fit_transform(explicativa_norm[c].to_numpy().reshape(-1, 1))\n",
    "\n",
    "for c in target_norm.columns:\n",
    "    target_norm[c+'Norm'] = scaler.fit_transform(target_norm[c].to_numpy().reshape(-1, 1))\n"
   ]
  },
  {
   "cell_type": "code",
   "execution_count": 5,
   "metadata": {},
   "outputs": [
    {
     "data": {
      "text/plain": [
       "((126254, 55), (126254, 2))"
      ]
     },
     "execution_count": 5,
     "metadata": {},
     "output_type": "execute_result"
    }
   ],
   "source": [
    "explicativa_norm.shape, target_norm.shape"
   ]
  },
  {
   "cell_type": "code",
   "execution_count": 6,
   "metadata": {},
   "outputs": [
    {
     "data": {
      "text/html": [
       "<div>\n",
       "<style scoped>\n",
       "    .dataframe tbody tr th:only-of-type {\n",
       "        vertical-align: middle;\n",
       "    }\n",
       "\n",
       "    .dataframe tbody tr th {\n",
       "        vertical-align: top;\n",
       "    }\n",
       "\n",
       "    .dataframe thead th {\n",
       "        text-align: right;\n",
       "    }\n",
       "</style>\n",
       "<table border=\"1\" class=\"dataframe\">\n",
       "  <thead>\n",
       "    <tr style=\"text-align: right;\">\n",
       "      <th></th>\n",
       "      <th>VL_MED_FAM</th>\n",
       "      <th>VL_MED_FAMNorm</th>\n",
       "    </tr>\n",
       "  </thead>\n",
       "  <tbody>\n",
       "    <tr>\n",
       "      <th>0</th>\n",
       "      <td>0</td>\n",
       "      <td>-0.909537</td>\n",
       "    </tr>\n",
       "    <tr>\n",
       "      <th>1</th>\n",
       "      <td>0</td>\n",
       "      <td>-0.909537</td>\n",
       "    </tr>\n",
       "    <tr>\n",
       "      <th>2</th>\n",
       "      <td>0</td>\n",
       "      <td>-0.909537</td>\n",
       "    </tr>\n",
       "    <tr>\n",
       "      <th>3</th>\n",
       "      <td>0</td>\n",
       "      <td>-0.909537</td>\n",
       "    </tr>\n",
       "    <tr>\n",
       "      <th>4</th>\n",
       "      <td>100</td>\n",
       "      <td>-0.659697</td>\n",
       "    </tr>\n",
       "    <tr>\n",
       "      <th>...</th>\n",
       "      <td>...</td>\n",
       "      <td>...</td>\n",
       "    </tr>\n",
       "    <tr>\n",
       "      <th>126249</th>\n",
       "      <td>954</td>\n",
       "      <td>1.473938</td>\n",
       "    </tr>\n",
       "    <tr>\n",
       "      <th>126250</th>\n",
       "      <td>954</td>\n",
       "      <td>1.473938</td>\n",
       "    </tr>\n",
       "    <tr>\n",
       "      <th>126251</th>\n",
       "      <td>954</td>\n",
       "      <td>1.473938</td>\n",
       "    </tr>\n",
       "    <tr>\n",
       "      <th>126252</th>\n",
       "      <td>954</td>\n",
       "      <td>1.473938</td>\n",
       "    </tr>\n",
       "    <tr>\n",
       "      <th>126253</th>\n",
       "      <td>954</td>\n",
       "      <td>1.473938</td>\n",
       "    </tr>\n",
       "  </tbody>\n",
       "</table>\n",
       "<p>126254 rows × 2 columns</p>\n",
       "</div>"
      ],
      "text/plain": [
       "        VL_MED_FAM  VL_MED_FAMNorm\n",
       "0                0       -0.909537\n",
       "1                0       -0.909537\n",
       "2                0       -0.909537\n",
       "3                0       -0.909537\n",
       "4              100       -0.659697\n",
       "...            ...             ...\n",
       "126249         954        1.473938\n",
       "126250         954        1.473938\n",
       "126251         954        1.473938\n",
       "126252         954        1.473938\n",
       "126253         954        1.473938\n",
       "\n",
       "[126254 rows x 2 columns]"
      ]
     },
     "execution_count": 6,
     "metadata": {},
     "output_type": "execute_result"
    }
   ],
   "source": [
    "target_norm"
   ]
  },
  {
   "cell_type": "code",
   "execution_count": 7,
   "metadata": {},
   "outputs": [],
   "source": [
    "from sklearn.model_selection import train_test_split"
   ]
  },
  {
   "cell_type": "code",
   "execution_count": 8,
   "metadata": {},
   "outputs": [],
   "source": [
    "X_train , X_test, y_train , y_test = train_test_split(explicativa_norm,\n",
    "                                                         target_norm,\n",
    "                                                         test_size=0.3,\n",
    "                                                         random_state=42)"
   ]
  },
  {
   "cell_type": "code",
   "execution_count": 9,
   "metadata": {},
   "outputs": [],
   "source": [
    "X_train.shape,y_train.shape, X_test.shape, y_test.shape\n",
    "y_train2 = y_train.copy()\n",
    "y_test2 = y_test.copy()\n",
    "\n",
    "y_train = y_train.drop(columns=['VL_MED_FAM'])\n",
    "y_test = y_test.drop(columns=['VL_MED_FAM'])"
   ]
  },
  {
   "cell_type": "code",
   "execution_count": 10,
   "metadata": {},
   "outputs": [],
   "source": [
    "model = Sequential()\n"
   ]
  },
  {
   "cell_type": "code",
   "execution_count": 11,
   "metadata": {
    "scrolled": false
   },
   "outputs": [
    {
     "name": "stdout",
     "output_type": "stream",
     "text": [
      "Model: \"sequential\"\n",
      "_________________________________________________________________\n",
      "Layer (type)                 Output Shape              Param #   \n",
      "=================================================================\n",
      "dense (Dense)                (None, 55)                3080      \n",
      "_________________________________________________________________\n",
      "leaky_re_lu (LeakyReLU)      (None, 55)                0         \n",
      "_________________________________________________________________\n",
      "dense_1 (Dense)              (None, 100)               5600      \n",
      "_________________________________________________________________\n",
      "dense_2 (Dense)              (None, 100)               10100     \n",
      "_________________________________________________________________\n",
      "dense_3 (Dense)              (None, 100)               10100     \n",
      "_________________________________________________________________\n",
      "dense_4 (Dense)              (None, 100)               10100     \n",
      "_________________________________________________________________\n",
      "dense_5 (Dense)              (None, 100)               10100     \n",
      "_________________________________________________________________\n",
      "dense_6 (Dense)              (None, 1)                 101       \n",
      "=================================================================\n",
      "Total params: 49,181\n",
      "Trainable params: 49,181\n",
      "Non-trainable params: 0\n",
      "_________________________________________________________________\n",
      "Epoch 1/1000\n",
      "691/691 [==============================] - 4s 5ms/step - loss: 0.2956 - val_loss: 0.2184\n",
      "Epoch 2/1000\n",
      "691/691 [==============================] - 3s 5ms/step - loss: 0.2012 - val_loss: 0.1956\n",
      "Epoch 3/1000\n",
      "691/691 [==============================] - 3s 5ms/step - loss: 0.1835 - val_loss: 0.1815\n",
      "Epoch 4/1000\n",
      "691/691 [==============================] - 3s 5ms/step - loss: 0.1755 - val_loss: 0.1750\n",
      "Epoch 5/1000\n",
      "691/691 [==============================] - 3s 5ms/step - loss: 0.1701 - val_loss: 0.1709\n",
      "Epoch 6/1000\n",
      "691/691 [==============================] - 3s 5ms/step - loss: 0.1660 - val_loss: 0.1673\n",
      "Epoch 7/1000\n",
      "691/691 [==============================] - 3s 5ms/step - loss: 0.1638 - val_loss: 0.1646\n",
      "Epoch 8/1000\n",
      "691/691 [==============================] - 4s 5ms/step - loss: 0.1614 - val_loss: 0.1640\n",
      "Epoch 9/1000\n",
      "691/691 [==============================] - 4s 5ms/step - loss: 0.1592 - val_loss: 0.1660\n",
      "Epoch 10/1000\n",
      "691/691 [==============================] - 4s 5ms/step - loss: 0.1572 - val_loss: 0.1657\n",
      "Epoch 11/1000\n",
      "691/691 [==============================] - 4s 5ms/step - loss: 0.1562 - val_loss: 0.1612\n",
      "Epoch 12/1000\n",
      "691/691 [==============================] - 4s 5ms/step - loss: 0.1547 - val_loss: 0.1600\n",
      "Epoch 13/1000\n",
      "691/691 [==============================] - 4s 5ms/step - loss: 0.1524 - val_loss: 0.1628\n",
      "Epoch 14/1000\n",
      "691/691 [==============================] - 4s 6ms/step - loss: 0.1516 - val_loss: 0.1623\n",
      "Epoch 15/1000\n",
      "691/691 [==============================] - 4s 6ms/step - loss: 0.1508 - val_loss: 0.1603\n",
      "Epoch 16/1000\n",
      "691/691 [==============================] - 5s 7ms/step - loss: 0.1510 - val_loss: 0.1577\n",
      "Epoch 17/1000\n",
      "691/691 [==============================] - 5s 7ms/step - loss: 0.1493 - val_loss: 0.1615\n",
      "Epoch 18/1000\n",
      "691/691 [==============================] - 5s 7ms/step - loss: 0.1494 - val_loss: 0.1580\n",
      "Epoch 19/1000\n",
      "691/691 [==============================] - 4s 6ms/step - loss: 0.1477 - val_loss: 0.1582\n",
      "Epoch 20/1000\n",
      "691/691 [==============================] - 4s 6ms/step - loss: 0.1479 - val_loss: 0.1583\n",
      "Epoch 21/1000\n",
      "691/691 [==============================] - 4s 6ms/step - loss: 0.1463 - val_loss: 0.1590\n",
      "Epoch 22/1000\n",
      "691/691 [==============================] - 4s 5ms/step - loss: 0.1451 - val_loss: 0.1546\n",
      "Epoch 23/1000\n",
      "691/691 [==============================] - 4s 5ms/step - loss: 0.1458 - val_loss: 0.1562\n",
      "Epoch 24/1000\n",
      "691/691 [==============================] - 4s 6ms/step - loss: 0.1445 - val_loss: 0.1596\n",
      "Epoch 25/1000\n",
      "691/691 [==============================] - 5s 7ms/step - loss: 0.1450 - val_loss: 0.1590\n",
      "Epoch 26/1000\n",
      "691/691 [==============================] - 4s 5ms/step - loss: 0.1446 - val_loss: 0.1577\n",
      "Epoch 27/1000\n",
      "691/691 [==============================] - 4s 5ms/step - loss: 0.1439 - val_loss: 0.1563\n",
      "Epoch 28/1000\n",
      "691/691 [==============================] - 4s 5ms/step - loss: 0.1420 - val_loss: 0.1620\n",
      "Epoch 29/1000\n",
      "691/691 [==============================] - 4s 5ms/step - loss: 0.1424 - val_loss: 0.1558\n",
      "Epoch 30/1000\n",
      "691/691 [==============================] - 4s 5ms/step - loss: 0.1426 - val_loss: 0.1585\n",
      "Epoch 31/1000\n",
      "691/691 [==============================] - 4s 5ms/step - loss: 0.1418 - val_loss: 0.1541\n",
      "Epoch 32/1000\n",
      "691/691 [==============================] - 4s 5ms/step - loss: 0.1412 - val_loss: 0.1571\n",
      "Epoch 33/1000\n",
      "691/691 [==============================] - 4s 5ms/step - loss: 0.1398 - val_loss: 0.1560\n",
      "Epoch 34/1000\n",
      "691/691 [==============================] - 4s 5ms/step - loss: 0.1398 - val_loss: 0.1556\n",
      "Epoch 35/1000\n",
      "691/691 [==============================] - 4s 6ms/step - loss: 0.1389 - val_loss: 0.1560\n",
      "Epoch 36/1000\n",
      "691/691 [==============================] - 4s 6ms/step - loss: 0.1390 - val_loss: 0.1583\n",
      "Epoch 37/1000\n",
      "691/691 [==============================] - 4s 6ms/step - loss: 0.1378 - val_loss: 0.1563\n",
      "Epoch 38/1000\n",
      "691/691 [==============================] - 4s 6ms/step - loss: 0.1383 - val_loss: 0.1627\n",
      "Epoch 39/1000\n",
      "691/691 [==============================] - 5s 7ms/step - loss: 0.1377 - val_loss: 0.1572\n",
      "Epoch 40/1000\n",
      "691/691 [==============================] - 4s 6ms/step - loss: 0.1380 - val_loss: 0.1570\n",
      "Epoch 41/1000\n",
      "691/691 [==============================] - 5s 7ms/step - loss: 0.1376 - val_loss: 0.1553\n",
      "Epoch 42/1000\n",
      "691/691 [==============================] - 4s 6ms/step - loss: 0.1364 - val_loss: 0.1571\n",
      "Epoch 43/1000\n",
      "691/691 [==============================] - 4s 6ms/step - loss: 0.1354 - val_loss: 0.1573\n",
      "Epoch 44/1000\n",
      "691/691 [==============================] - 5s 7ms/step - loss: 0.1355 - val_loss: 0.1579\n"
     ]
    }
   ],
   "source": [
    "## Leaky ReLU\n",
    "callback = EarlyStopping(\n",
    "    monitor='val_loss',\n",
    "    patience= 13,\n",
    "    restore_best_weights=True\n",
    "    #mode='val_loss'\n",
    ")\n",
    "model.add(layers.Dense(55,activation='relu',input_shape=(55,)))\n",
    "model.add(LeakyReLU(alpha=0.001))\n",
    "model.add(layers.Dense(100, activation='relu'))\n",
    "model.add(layers.Dense(100, activation='relu'))\n",
    "model.add(layers.Dense(100, activation='relu'))\n",
    "model.add(layers.Dense(100, activation='relu'))\n",
    "model.add(layers.Dense(100, activation='relu'))\n",
    "\n",
    "model.add(layers.Dense(1))\n",
    "model.compile(optimizer='adam',loss='mean_absolute_error'#, metrics=['accuracy'] #'mean_squared_error'\n",
    "             )\n",
    "model.summary()\n",
    "\n",
    "results = model.fit(X_train, y_train,\n",
    "            batch_size=128,\n",
    "            epochs=1000,\n",
    "            verbose=1,\n",
    "            validation_data=(X_test, y_test),\n",
    "                    callbacks=[callback]\n",
    "         )\n",
    "\n",
    "\n",
    "#model = null "
   ]
  },
  {
   "cell_type": "code",
   "execution_count": 12,
   "metadata": {},
   "outputs": [
    {
     "data": {
      "image/png": "[encoded data removed]",
      "text/plain": [
       "<Figure size 432x288 with 1 Axes>"
      ]
     },
     "metadata": {
      "needs_background": "light"
     },
     "output_type": "display_data"
    }
   ],
   "source": [
    "import matplotlib.pyplot as plt \n",
    "plt.plot(results.history[\"loss\"], label=\"loss\")\n",
    "plt.plot(results.history[\"val_loss\"], label=\"val_loss\")\n",
    "plt.legend()\n",
    "plt.show()\n",
    "\n",
    "#56 \n",
    "#53\n",
    "#58 \n",
    "#43 "
   ]
  },
  {
   "cell_type": "code",
   "execution_count": 13,
   "metadata": {
    "scrolled": false
   },
   "outputs": [],
   "source": [
    "valores = model.predict(X_train) #predict(X_test)\n",
    "pred = scaler.inverse_transform(valores)\n",
    "y_t = scaler.inverse_transform(y_train)\n",
    "y_t = pd.DataFrame.from_records(y_train)\n",
    "y_t = y_t.rename(columns={0:'Real'})\n",
    "predito = pd.DataFrame.from_records(pred)\n",
    "predito = predito.rename(columns={0:'Predito'})"
   ]
  },
  {
   "cell_type": "code",
   "execution_count": 14,
   "metadata": {},
   "outputs": [],
   "source": [
    "y_train2 = y_train2[['VL_MED_FAM']]"
   ]
  },
  {
   "cell_type": "code",
   "execution_count": 15,
   "metadata": {},
   "outputs": [],
   "source": [
    "resultados = pd.concat([predito, pd.Series(y_train2.VL_MED_FAM.to_list(), name='real')], axis=1)\n",
    "resultados['residuo'] = resultados.real - resultados.Predito"
   ]
  },
  {
   "cell_type": "code",
   "execution_count": 17,
   "metadata": {},
   "outputs": [],
   "source": [
    "valoresteste = model.predict(X_test) #predict(X_test)\n",
    "predteste = scaler.inverse_transform(valoresteste)\n",
    "y_tt = scaler.inverse_transform(y_test)\n",
    "y_tt = pd.DataFrame.from_records(y_test)\n",
    "y_tt = y_tt.rename(columns={0:'Real'})\n",
    "pdteste = pd.DataFrame.from_records(predteste)\n",
    "pdteste = pdteste.rename(columns={0:'Predito'})"
   ]
  },
  {
   "cell_type": "code",
   "execution_count": 18,
   "metadata": {},
   "outputs": [],
   "source": [
    "y_test2 = y_test2[['VL_MED_FAM']]"
   ]
  },
  {
   "cell_type": "code",
   "execution_count": 19,
   "metadata": {},
   "outputs": [],
   "source": [
    "resultadosteste = pd.concat([pdteste, pd.Series(y_test2.VL_MED_FAM.to_list(), name='real')], axis=1)\n",
    "resultadosteste['residuo'] = round(resultadosteste.real - resultadosteste.Predito,2)"
   ]
  },
  {
   "cell_type": "code",
   "execution_count": 22,
   "metadata": {},
   "outputs": [
    {
     "data": {
      "text/html": [
       "<div>\n",
       "<style scoped>\n",
       "    .dataframe tbody tr th:only-of-type {\n",
       "        vertical-align: middle;\n",
       "    }\n",
       "\n",
       "    .dataframe tbody tr th {\n",
       "        vertical-align: top;\n",
       "    }\n",
       "\n",
       "    .dataframe thead th {\n",
       "        text-align: right;\n",
       "    }\n",
       "</style>\n",
       "<table border=\"1\" class=\"dataframe\">\n",
       "  <thead>\n",
       "    <tr style=\"text-align: right;\">\n",
       "      <th></th>\n",
       "      <th>Predito</th>\n",
       "      <th>real</th>\n",
       "      <th>residuo</th>\n",
       "    </tr>\n",
       "  </thead>\n",
       "  <tbody>\n",
       "    <tr>\n",
       "      <th>0</th>\n",
       "      <td>45.453403</td>\n",
       "      <td>62</td>\n",
       "      <td>16.55</td>\n",
       "    </tr>\n",
       "    <tr>\n",
       "      <th>1</th>\n",
       "      <td>-1.964078</td>\n",
       "      <td>0</td>\n",
       "      <td>1.96</td>\n",
       "    </tr>\n",
       "    <tr>\n",
       "      <th>2</th>\n",
       "      <td>477.335724</td>\n",
       "      <td>477</td>\n",
       "      <td>-0.34</td>\n",
       "    </tr>\n",
       "    <tr>\n",
       "      <th>3</th>\n",
       "      <td>109.862015</td>\n",
       "      <td>484</td>\n",
       "      <td>374.14</td>\n",
       "    </tr>\n",
       "    <tr>\n",
       "      <th>4</th>\n",
       "      <td>209.537308</td>\n",
       "      <td>190</td>\n",
       "      <td>-19.54</td>\n",
       "    </tr>\n",
       "    <tr>\n",
       "      <th>5</th>\n",
       "      <td>954.788269</td>\n",
       "      <td>954</td>\n",
       "      <td>-0.79</td>\n",
       "    </tr>\n",
       "    <tr>\n",
       "      <th>6</th>\n",
       "      <td>52.047489</td>\n",
       "      <td>50</td>\n",
       "      <td>-2.05</td>\n",
       "    </tr>\n",
       "    <tr>\n",
       "      <th>7</th>\n",
       "      <td>124.529205</td>\n",
       "      <td>125</td>\n",
       "      <td>0.47</td>\n",
       "    </tr>\n",
       "    <tr>\n",
       "      <th>8</th>\n",
       "      <td>76.679382</td>\n",
       "      <td>83</td>\n",
       "      <td>6.32</td>\n",
       "    </tr>\n",
       "    <tr>\n",
       "      <th>9</th>\n",
       "      <td>74.811096</td>\n",
       "      <td>40</td>\n",
       "      <td>-34.81</td>\n",
       "    </tr>\n",
       "    <tr>\n",
       "      <th>10</th>\n",
       "      <td>140.451340</td>\n",
       "      <td>140</td>\n",
       "      <td>-0.45</td>\n",
       "    </tr>\n",
       "    <tr>\n",
       "      <th>11</th>\n",
       "      <td>242.732132</td>\n",
       "      <td>238</td>\n",
       "      <td>-4.73</td>\n",
       "    </tr>\n",
       "    <tr>\n",
       "      <th>12</th>\n",
       "      <td>603.705383</td>\n",
       "      <td>595</td>\n",
       "      <td>-8.71</td>\n",
       "    </tr>\n",
       "    <tr>\n",
       "      <th>13</th>\n",
       "      <td>954.046570</td>\n",
       "      <td>954</td>\n",
       "      <td>-0.05</td>\n",
       "    </tr>\n",
       "    <tr>\n",
       "      <th>14</th>\n",
       "      <td>4.800296</td>\n",
       "      <td>5</td>\n",
       "      <td>0.20</td>\n",
       "    </tr>\n",
       "    <tr>\n",
       "      <th>15</th>\n",
       "      <td>401.779358</td>\n",
       "      <td>200</td>\n",
       "      <td>-201.78</td>\n",
       "    </tr>\n",
       "    <tr>\n",
       "      <th>16</th>\n",
       "      <td>954.032471</td>\n",
       "      <td>954</td>\n",
       "      <td>-0.03</td>\n",
       "    </tr>\n",
       "    <tr>\n",
       "      <th>17</th>\n",
       "      <td>144.069595</td>\n",
       "      <td>133</td>\n",
       "      <td>-11.07</td>\n",
       "    </tr>\n",
       "    <tr>\n",
       "      <th>18</th>\n",
       "      <td>953.857666</td>\n",
       "      <td>954</td>\n",
       "      <td>0.14</td>\n",
       "    </tr>\n",
       "    <tr>\n",
       "      <th>19</th>\n",
       "      <td>0.469760</td>\n",
       "      <td>0</td>\n",
       "      <td>-0.47</td>\n",
       "    </tr>\n",
       "  </tbody>\n",
       "</table>\n",
       "</div>"
      ],
      "text/plain": [
       "       Predito  real  residuo\n",
       "0    45.453403    62    16.55\n",
       "1    -1.964078     0     1.96\n",
       "2   477.335724   477    -0.34\n",
       "3   109.862015   484   374.14\n",
       "4   209.537308   190   -19.54\n",
       "5   954.788269   954    -0.79\n",
       "6    52.047489    50    -2.05\n",
       "7   124.529205   125     0.47\n",
       "8    76.679382    83     6.32\n",
       "9    74.811096    40   -34.81\n",
       "10  140.451340   140    -0.45\n",
       "11  242.732132   238    -4.73\n",
       "12  603.705383   595    -8.71\n",
       "13  954.046570   954    -0.05\n",
       "14    4.800296     5     0.20\n",
       "15  401.779358   200  -201.78\n",
       "16  954.032471   954    -0.03\n",
       "17  144.069595   133   -11.07\n",
       "18  953.857666   954     0.14\n",
       "19    0.469760     0    -0.47"
      ]
     },
     "execution_count": 22,
     "metadata": {},
     "output_type": "execute_result"
    }
   ],
   "source": [
    "resultadosteste.head(20)"
   ]
  },
  {
   "cell_type": "markdown",
   "metadata": {},
   "source": [
    "## <font color=red> Perfomance </font>"
   ]
  },
  {
   "cell_type": "code",
   "execution_count": 23,
   "metadata": {},
   "outputs": [
    {
     "name": "stdout",
     "output_type": "stream",
     "text": [
      "55.16175622262865\n",
      "61.66187224853889\n"
     ]
    }
   ],
   "source": [
    "from sklearn.metrics import mean_absolute_error\n",
    "from sklearn.utils.validation import check_array\n",
    "print(mean_absolute_error(resultados.real,resultados.Predito))\n",
    "print(mean_absolute_error(resultadosteste.real,resultadosteste.Predito))\n"
   ]
  },
  {
   "cell_type": "code",
   "execution_count": null,
   "metadata": {},
   "outputs": [],
   "source": []
  },
  {
   "cell_type": "code",
   "execution_count": null,
   "metadata": {},
   "outputs": [],
   "source": []
  },
  {
   "cell_type": "code",
   "execution_count": 25,
   "metadata": {},
   "outputs": [
    {
     "data": {
      "text/plain": [
       "(array([4.8200e+02, 2.4000e+01, 7.7500e+02, 5.1900e+02, 2.9660e+03,\n",
       "        7.7152e+04, 2.9180e+03, 2.1230e+03, 4.0900e+02, 2.3800e+02,\n",
       "        6.1800e+02, 5.0000e+01, 3.7000e+01, 2.6000e+01, 2.3000e+01,\n",
       "        1.4000e+01, 2.0000e+00, 0.0000e+00, 0.0000e+00, 1.0000e+00]),\n",
       " array([-961.77490234, -779.61460037, -597.4542984 , -415.29399643,\n",
       "        -233.13369446,  -50.97339249,  131.18690948,  313.34721146,\n",
       "         495.50751343,  677.6678154 ,  859.82811737, 1041.98841934,\n",
       "        1224.14872131, 1406.30902328, 1588.46932526, 1770.62962723,\n",
       "        1952.7899292 , 2134.95023117, 2317.11053314, 2499.27083511,\n",
       "        2681.43113708]),\n",
       " <a list of 20 Patch objects>)"
      ]
     },
     "execution_count": 25,
     "metadata": {},
     "output_type": "execute_result"
    },
    {
     "data": {
      "image/png": "[encoded data removed]",
      "text/plain": [
       "<Figure size 360x360 with 1 Axes>"
      ]
     },
     "metadata": {
      "needs_background": "light"
     },
     "output_type": "display_data"
    }
   ],
   "source": [
    "import matplotlib.pyplot as plt \n",
    "plt.subplots(1,1,figsize=(5,5))\n",
    "plt.hist(resultados.residuo, color='#6ADBD9', bins=20)"
   ]
  },
  {
   "cell_type": "code",
   "execution_count": 26,
   "metadata": {},
   "outputs": [
    {
     "data": {
      "text/plain": [
       "(array([2.100e+02, 9.000e+00, 1.500e+01, 4.280e+02, 3.170e+02, 7.890e+02,\n",
       "        3.163e+04, 1.925e+03, 9.780e+02, 5.560e+02, 4.950e+02, 1.150e+02,\n",
       "        9.500e+01, 2.580e+02, 9.000e+00, 1.200e+01, 5.000e+00, 6.000e+00,\n",
       "        1.600e+01, 9.000e+00]),\n",
       " array([-958.38  , -815.1425, -671.905 , -528.6675, -385.43  , -242.1925,\n",
       "         -98.955 ,   44.2825,  187.52  ,  330.7575,  473.995 ,  617.2325,\n",
       "         760.47  ,  903.7075, 1046.945 , 1190.1825, 1333.42  , 1476.6575,\n",
       "        1619.895 , 1763.1325, 1906.37  ]),\n",
       " <a list of 20 Patch objects>)"
      ]
     },
     "execution_count": 26,
     "metadata": {},
     "output_type": "execute_result"
    },
    {
     "data": {
      "image/png": "[encoded data removed]",
      "text/plain": [
       "<Figure size 360x360 with 1 Axes>"
      ]
     },
     "metadata": {
      "needs_background": "light"
     },
     "output_type": "display_data"
    }
   ],
   "source": [
    "import matplotlib.pyplot as plt \n",
    "plt.subplots(1,1,figsize=(5,5))\n",
    "plt.hist(resultadosteste.residuo, color='#6ADBD9', bins=20)"
   ]
  }
 ],
 "metadata": {
  "kernelspec": {
   "display_name": "Python 3",
   "language": "python",
   "name": "python3"
  },
  "language_info": {
   "codemirror_mode": {
    "name": "ipython",
    "version": 3
   },
   "file_extension": ".py",
   "mimetype": "text/x-python",
   "name": "python",
   "nbconvert_exporter": "python",
   "pygments_lexer": "ipython3",
   "version": "3.8.3"
  }
 },
 "nbformat": 4,
 "nbformat_minor": 4
}
