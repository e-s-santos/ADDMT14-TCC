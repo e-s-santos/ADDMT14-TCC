{
 "cells": [
  {
   "cell_type": "code",
   "execution_count": 1,
   "metadata": {},
   "outputs": [],
   "source": [
    "import pandas as pd \n",
    "import numpy as np\n",
    "from sklearn.ensemble import RandomForestRegressor\n",
    "from sklearn.ensemble import GradientBoostingRegressor\n",
    "from sklearn.tree import DecisionTreeRegressor\n",
    "from sklearn.model_selection import GridSearchCV\n",
    "from sklearn.model_selection import train_test_split"
   ]
  },
  {
   "cell_type": "code",
   "execution_count": 3,
   "metadata": {},
   "outputs": [],
   "source": [
    "target = pd.read_csv('TARGET.csv')\n",
    "target = target.drop(columns=['Unnamed: 0'])\n",
    "explicativa = pd.read_csv('EXP.csv', sep=';')\n",
    "explicativa = explicativa.drop(columns=['Unnamed: 0'])\n"
   ]
  },
  {
   "cell_type": "code",
   "execution_count": 4,
   "metadata": {},
   "outputs": [
    {
     "data": {
      "text/html": [
       "<div>\n",
       "<style scoped>\n",
       "    .dataframe tbody tr th:only-of-type {\n",
       "        vertical-align: middle;\n",
       "    }\n",
       "\n",
       "    .dataframe tbody tr th {\n",
       "        vertical-align: top;\n",
       "    }\n",
       "\n",
       "    .dataframe thead th {\n",
       "        text-align: right;\n",
       "    }\n",
       "</style>\n",
       "<table border=\"1\" class=\"dataframe\">\n",
       "  <thead>\n",
       "    <tr style=\"text-align: right;\">\n",
       "      <th></th>\n",
       "      <th>VL_MED_FAM</th>\n",
       "    </tr>\n",
       "  </thead>\n",
       "  <tbody>\n",
       "    <tr>\n",
       "      <th>0</th>\n",
       "      <td>0</td>\n",
       "    </tr>\n",
       "    <tr>\n",
       "      <th>1</th>\n",
       "      <td>0</td>\n",
       "    </tr>\n",
       "    <tr>\n",
       "      <th>2</th>\n",
       "      <td>0</td>\n",
       "    </tr>\n",
       "    <tr>\n",
       "      <th>3</th>\n",
       "      <td>0</td>\n",
       "    </tr>\n",
       "    <tr>\n",
       "      <th>4</th>\n",
       "      <td>100</td>\n",
       "    </tr>\n",
       "  </tbody>\n",
       "</table>\n",
       "</div>"
      ],
      "text/plain": [
       "   VL_MED_FAM\n",
       "0           0\n",
       "1           0\n",
       "2           0\n",
       "3           0\n",
       "4         100"
      ]
     },
     "execution_count": 4,
     "metadata": {},
     "output_type": "execute_result"
    }
   ],
   "source": [
    "target.head(5)"
   ]
  },
  {
   "cell_type": "code",
   "execution_count": 5,
   "metadata": {},
   "outputs": [
    {
     "data": {
      "text/html": [
       "<div>\n",
       "<style scoped>\n",
       "    .dataframe tbody tr th:only-of-type {\n",
       "        vertical-align: middle;\n",
       "    }\n",
       "\n",
       "    .dataframe tbody tr th {\n",
       "        vertical-align: top;\n",
       "    }\n",
       "\n",
       "    .dataframe thead th {\n",
       "        text-align: right;\n",
       "    }\n",
       "</style>\n",
       "<table border=\"1\" class=\"dataframe\">\n",
       "  <thead>\n",
       "    <tr style=\"text-align: right;\">\n",
       "      <th></th>\n",
       "      <th>SEXO_RESP_M</th>\n",
       "      <th>UF_Bahia</th>\n",
       "      <th>UF_Ceará</th>\n",
       "      <th>UF_Maranhão</th>\n",
       "      <th>UF_Paraíba</th>\n",
       "      <th>UF_Pernambuco</th>\n",
       "      <th>UF_Piauí</th>\n",
       "      <th>UF_Rio_Grande_do_Norte</th>\n",
       "      <th>UF_Sergipe</th>\n",
       "      <th>MESORREGIAO_MES2</th>\n",
       "      <th>...</th>\n",
       "      <th>ENSINO_Nenhum</th>\n",
       "      <th>ENSINO_PréVestibulareSuperior</th>\n",
       "      <th>RENDAS_S</th>\n",
       "      <th>QTD_COMODO_DOMIC_FAM</th>\n",
       "      <th>QTD_DORM_FAM</th>\n",
       "      <th>QTD_PESSOA</th>\n",
       "      <th>QTD_MASC</th>\n",
       "      <th>RENDA_PROV_TRAB_REG</th>\n",
       "      <th>PERIODO_MAX_TRAB_MEMB</th>\n",
       "      <th>MEDIA_IDADE</th>\n",
       "    </tr>\n",
       "  </thead>\n",
       "  <tbody>\n",
       "    <tr>\n",
       "      <th>0</th>\n",
       "      <td>1</td>\n",
       "      <td>0</td>\n",
       "      <td>0</td>\n",
       "      <td>1</td>\n",
       "      <td>0</td>\n",
       "      <td>0</td>\n",
       "      <td>0</td>\n",
       "      <td>0</td>\n",
       "      <td>0</td>\n",
       "      <td>0</td>\n",
       "      <td>...</td>\n",
       "      <td>0</td>\n",
       "      <td>0</td>\n",
       "      <td>0</td>\n",
       "      <td>5.0</td>\n",
       "      <td>2.0</td>\n",
       "      <td>1</td>\n",
       "      <td>1</td>\n",
       "      <td>0</td>\n",
       "      <td>0.0</td>\n",
       "      <td>32</td>\n",
       "    </tr>\n",
       "    <tr>\n",
       "      <th>1</th>\n",
       "      <td>0</td>\n",
       "      <td>0</td>\n",
       "      <td>0</td>\n",
       "      <td>1</td>\n",
       "      <td>0</td>\n",
       "      <td>0</td>\n",
       "      <td>0</td>\n",
       "      <td>0</td>\n",
       "      <td>0</td>\n",
       "      <td>0</td>\n",
       "      <td>...</td>\n",
       "      <td>0</td>\n",
       "      <td>0</td>\n",
       "      <td>0</td>\n",
       "      <td>4.0</td>\n",
       "      <td>2.0</td>\n",
       "      <td>4</td>\n",
       "      <td>2</td>\n",
       "      <td>0</td>\n",
       "      <td>0.0</td>\n",
       "      <td>27</td>\n",
       "    </tr>\n",
       "    <tr>\n",
       "      <th>2</th>\n",
       "      <td>0</td>\n",
       "      <td>0</td>\n",
       "      <td>0</td>\n",
       "      <td>1</td>\n",
       "      <td>0</td>\n",
       "      <td>0</td>\n",
       "      <td>0</td>\n",
       "      <td>0</td>\n",
       "      <td>0</td>\n",
       "      <td>0</td>\n",
       "      <td>...</td>\n",
       "      <td>1</td>\n",
       "      <td>0</td>\n",
       "      <td>0</td>\n",
       "      <td>4.0</td>\n",
       "      <td>1.0</td>\n",
       "      <td>1</td>\n",
       "      <td>0</td>\n",
       "      <td>0</td>\n",
       "      <td>0.0</td>\n",
       "      <td>35</td>\n",
       "    </tr>\n",
       "    <tr>\n",
       "      <th>3</th>\n",
       "      <td>0</td>\n",
       "      <td>0</td>\n",
       "      <td>0</td>\n",
       "      <td>1</td>\n",
       "      <td>0</td>\n",
       "      <td>0</td>\n",
       "      <td>0</td>\n",
       "      <td>0</td>\n",
       "      <td>0</td>\n",
       "      <td>0</td>\n",
       "      <td>...</td>\n",
       "      <td>0</td>\n",
       "      <td>0</td>\n",
       "      <td>0</td>\n",
       "      <td>1.0</td>\n",
       "      <td>1.0</td>\n",
       "      <td>2</td>\n",
       "      <td>1</td>\n",
       "      <td>0</td>\n",
       "      <td>0.0</td>\n",
       "      <td>10</td>\n",
       "    </tr>\n",
       "    <tr>\n",
       "      <th>4</th>\n",
       "      <td>1</td>\n",
       "      <td>0</td>\n",
       "      <td>0</td>\n",
       "      <td>1</td>\n",
       "      <td>0</td>\n",
       "      <td>0</td>\n",
       "      <td>0</td>\n",
       "      <td>0</td>\n",
       "      <td>0</td>\n",
       "      <td>0</td>\n",
       "      <td>...</td>\n",
       "      <td>0</td>\n",
       "      <td>0</td>\n",
       "      <td>1</td>\n",
       "      <td>5.0</td>\n",
       "      <td>3.0</td>\n",
       "      <td>5</td>\n",
       "      <td>3</td>\n",
       "      <td>0</td>\n",
       "      <td>0.0</td>\n",
       "      <td>21</td>\n",
       "    </tr>\n",
       "    <tr>\n",
       "      <th>...</th>\n",
       "      <td>...</td>\n",
       "      <td>...</td>\n",
       "      <td>...</td>\n",
       "      <td>...</td>\n",
       "      <td>...</td>\n",
       "      <td>...</td>\n",
       "      <td>...</td>\n",
       "      <td>...</td>\n",
       "      <td>...</td>\n",
       "      <td>...</td>\n",
       "      <td>...</td>\n",
       "      <td>...</td>\n",
       "      <td>...</td>\n",
       "      <td>...</td>\n",
       "      <td>...</td>\n",
       "      <td>...</td>\n",
       "      <td>...</td>\n",
       "      <td>...</td>\n",
       "      <td>...</td>\n",
       "      <td>...</td>\n",
       "      <td>...</td>\n",
       "    </tr>\n",
       "    <tr>\n",
       "      <th>126249</th>\n",
       "      <td>1</td>\n",
       "      <td>1</td>\n",
       "      <td>0</td>\n",
       "      <td>0</td>\n",
       "      <td>0</td>\n",
       "      <td>0</td>\n",
       "      <td>0</td>\n",
       "      <td>0</td>\n",
       "      <td>0</td>\n",
       "      <td>0</td>\n",
       "      <td>...</td>\n",
       "      <td>0</td>\n",
       "      <td>0</td>\n",
       "      <td>0</td>\n",
       "      <td>6.0</td>\n",
       "      <td>3.0</td>\n",
       "      <td>1</td>\n",
       "      <td>1</td>\n",
       "      <td>0</td>\n",
       "      <td>0.0</td>\n",
       "      <td>66</td>\n",
       "    </tr>\n",
       "    <tr>\n",
       "      <th>126250</th>\n",
       "      <td>1</td>\n",
       "      <td>1</td>\n",
       "      <td>0</td>\n",
       "      <td>0</td>\n",
       "      <td>0</td>\n",
       "      <td>0</td>\n",
       "      <td>0</td>\n",
       "      <td>0</td>\n",
       "      <td>0</td>\n",
       "      <td>0</td>\n",
       "      <td>...</td>\n",
       "      <td>1</td>\n",
       "      <td>0</td>\n",
       "      <td>0</td>\n",
       "      <td>6.0</td>\n",
       "      <td>3.0</td>\n",
       "      <td>1</td>\n",
       "      <td>1</td>\n",
       "      <td>0</td>\n",
       "      <td>0.0</td>\n",
       "      <td>74</td>\n",
       "    </tr>\n",
       "    <tr>\n",
       "      <th>126251</th>\n",
       "      <td>1</td>\n",
       "      <td>1</td>\n",
       "      <td>0</td>\n",
       "      <td>0</td>\n",
       "      <td>0</td>\n",
       "      <td>0</td>\n",
       "      <td>0</td>\n",
       "      <td>0</td>\n",
       "      <td>0</td>\n",
       "      <td>0</td>\n",
       "      <td>...</td>\n",
       "      <td>0</td>\n",
       "      <td>0</td>\n",
       "      <td>0</td>\n",
       "      <td>3.0</td>\n",
       "      <td>2.0</td>\n",
       "      <td>2</td>\n",
       "      <td>1</td>\n",
       "      <td>0</td>\n",
       "      <td>0.0</td>\n",
       "      <td>67</td>\n",
       "    </tr>\n",
       "    <tr>\n",
       "      <th>126252</th>\n",
       "      <td>0</td>\n",
       "      <td>1</td>\n",
       "      <td>0</td>\n",
       "      <td>0</td>\n",
       "      <td>0</td>\n",
       "      <td>0</td>\n",
       "      <td>0</td>\n",
       "      <td>0</td>\n",
       "      <td>0</td>\n",
       "      <td>0</td>\n",
       "      <td>...</td>\n",
       "      <td>1</td>\n",
       "      <td>0</td>\n",
       "      <td>0</td>\n",
       "      <td>5.0</td>\n",
       "      <td>2.0</td>\n",
       "      <td>2</td>\n",
       "      <td>1</td>\n",
       "      <td>0</td>\n",
       "      <td>0.0</td>\n",
       "      <td>59</td>\n",
       "    </tr>\n",
       "    <tr>\n",
       "      <th>126253</th>\n",
       "      <td>1</td>\n",
       "      <td>1</td>\n",
       "      <td>0</td>\n",
       "      <td>0</td>\n",
       "      <td>0</td>\n",
       "      <td>0</td>\n",
       "      <td>0</td>\n",
       "      <td>0</td>\n",
       "      <td>0</td>\n",
       "      <td>0</td>\n",
       "      <td>...</td>\n",
       "      <td>0</td>\n",
       "      <td>0</td>\n",
       "      <td>0</td>\n",
       "      <td>6.0</td>\n",
       "      <td>3.0</td>\n",
       "      <td>2</td>\n",
       "      <td>1</td>\n",
       "      <td>954</td>\n",
       "      <td>12.0</td>\n",
       "      <td>65</td>\n",
       "    </tr>\n",
       "  </tbody>\n",
       "</table>\n",
       "<p>126254 rows × 55 columns</p>\n",
       "</div>"
      ],
      "text/plain": [
       "        SEXO_RESP_M  UF_Bahia  UF_Ceará  UF_Maranhão  UF_Paraíba  \\\n",
       "0                 1         0         0            1           0   \n",
       "1                 0         0         0            1           0   \n",
       "2                 0         0         0            1           0   \n",
       "3                 0         0         0            1           0   \n",
       "4                 1         0         0            1           0   \n",
       "...             ...       ...       ...          ...         ...   \n",
       "126249            1         1         0            0           0   \n",
       "126250            1         1         0            0           0   \n",
       "126251            1         1         0            0           0   \n",
       "126252            0         1         0            0           0   \n",
       "126253            1         1         0            0           0   \n",
       "\n",
       "        UF_Pernambuco  UF_Piauí  UF_Rio_Grande_do_Norte  UF_Sergipe  \\\n",
       "0                   0         0                       0           0   \n",
       "1                   0         0                       0           0   \n",
       "2                   0         0                       0           0   \n",
       "3                   0         0                       0           0   \n",
       "4                   0         0                       0           0   \n",
       "...               ...       ...                     ...         ...   \n",
       "126249              0         0                       0           0   \n",
       "126250              0         0                       0           0   \n",
       "126251              0         0                       0           0   \n",
       "126252              0         0                       0           0   \n",
       "126253              0         0                       0           0   \n",
       "\n",
       "        MESORREGIAO_MES2  ...  ENSINO_Nenhum  ENSINO_PréVestibulareSuperior  \\\n",
       "0                      0  ...              0                              0   \n",
       "1                      0  ...              0                              0   \n",
       "2                      0  ...              1                              0   \n",
       "3                      0  ...              0                              0   \n",
       "4                      0  ...              0                              0   \n",
       "...                  ...  ...            ...                            ...   \n",
       "126249                 0  ...              0                              0   \n",
       "126250                 0  ...              1                              0   \n",
       "126251                 0  ...              0                              0   \n",
       "126252                 0  ...              1                              0   \n",
       "126253                 0  ...              0                              0   \n",
       "\n",
       "        RENDAS_S  QTD_COMODO_DOMIC_FAM  QTD_DORM_FAM  QTD_PESSOA  QTD_MASC  \\\n",
       "0              0                   5.0           2.0           1         1   \n",
       "1              0                   4.0           2.0           4         2   \n",
       "2              0                   4.0           1.0           1         0   \n",
       "3              0                   1.0           1.0           2         1   \n",
       "4              1                   5.0           3.0           5         3   \n",
       "...          ...                   ...           ...         ...       ...   \n",
       "126249         0                   6.0           3.0           1         1   \n",
       "126250         0                   6.0           3.0           1         1   \n",
       "126251         0                   3.0           2.0           2         1   \n",
       "126252         0                   5.0           2.0           2         1   \n",
       "126253         0                   6.0           3.0           2         1   \n",
       "\n",
       "        RENDA_PROV_TRAB_REG  PERIODO_MAX_TRAB_MEMB  MEDIA_IDADE  \n",
       "0                         0                    0.0           32  \n",
       "1                         0                    0.0           27  \n",
       "2                         0                    0.0           35  \n",
       "3                         0                    0.0           10  \n",
       "4                         0                    0.0           21  \n",
       "...                     ...                    ...          ...  \n",
       "126249                    0                    0.0           66  \n",
       "126250                    0                    0.0           74  \n",
       "126251                    0                    0.0           67  \n",
       "126252                    0                    0.0           59  \n",
       "126253                  954                   12.0           65  \n",
       "\n",
       "[126254 rows x 55 columns]"
      ]
     },
     "execution_count": 5,
     "metadata": {},
     "output_type": "execute_result"
    }
   ],
   "source": [
    "explicativa"
   ]
  },
  {
   "cell_type": "code",
   "execution_count": 6,
   "metadata": {},
   "outputs": [
    {
     "data": {
      "text/plain": [
       "((88377, 55), (37877, 55), (88377, 1), (37877, 1))"
      ]
     },
     "execution_count": 6,
     "metadata": {},
     "output_type": "execute_result"
    }
   ],
   "source": [
    "x_treino, x_teste, y_treino, y_teste = train_test_split (explicativa,\n",
    "                                                         target,\n",
    "                                                         test_size=0.3,\n",
    "                                                         random_state=42)\n",
    "\n",
    "x_treino.shape,x_teste.shape, y_treino.shape, y_teste.shape"
   ]
  },
  {
   "cell_type": "code",
   "execution_count": 24,
   "metadata": {},
   "outputs": [
    {
     "data": {
      "text/plain": [
       "Index(['SEXO_RESP_M', 'UF_Bahia', 'UF_Ceará', 'UF_Maranhão', 'UF_Paraíba',\n",
       "       'UF_Pernambuco', 'UF_Piauí', 'UF_Rio_Grande_do_Norte', 'UF_Sergipe',\n",
       "       'MESORREGIAO_MES2', 'MESORREGIAO_MES3', 'MESORREGIAO_MES4',\n",
       "       'MESORREGIAO_MES5', 'MESORREGIAO_MES6', 'MESORREGIAO_MES7',\n",
       "       'MESORREGIAO_MES8', 'LOCAL_DOM_FAM_Urbana', 'MAT_PISO_FAMILIA_Cimento',\n",
       "       'MAT_PISO_FAMILIA_Outro_Material', 'MATERIA_CONSTRUCAO_CAT_A',\n",
       "       'AGUA_ENCANADA_Sim', 'ABASTECIMENTO_Demais',\n",
       "       'ABASTECIMENTO_Rede_geral_de_distribuição', 'TEM_BANHEIRO_Sim',\n",
       "       'ESCOAMENTO_SANITARIO_Fossa_séptica',\n",
       "       'ESCOAMENTO_SANITARIO_Não_identificado',\n",
       "       'ESCOAMENTO_SANITARIO_Outro_Meio',\n",
       "       'ESCOAMENTO_SANITARIO_Rede_coletora_de_esgoto_ou_pluvial',\n",
       "       'DESTINO_LIXO_É_coletado_diretamente',\n",
       "       'DESTINO_LIXO_É_coletado_indiretamente',\n",
       "       'DESTINO_LIXO_É_queimado_ou_enterrado_na_propriedade',\n",
       "       'CALCAMENTO_Parcial', 'CALCAMENTO_Total', 'CLASSE_CIDADE_Outros',\n",
       "       'CLASSE_CIDADE_Região_Metropolitana', 'ANALFABETO2_S',\n",
       "       'MENOR_ESTUDA_Todos_Menores_Estudam',\n",
       "       'MENOR_ESTUDA_Todos_Menores_Não_Estudam',\n",
       "       'MENOR_ESTUDA_s_idade_algum_n_estuda', 'TM_BF_1', 'COR_IAP',\n",
       "       'COR_Mais_de_uma', 'COR_Parda', 'ENSINO_Medio', 'ENSINO_NAO_INFORMADO',\n",
       "       'ENSINO_Nenhum', 'ENSINO_PréVestibulareSuperior', 'RENDAS_S',\n",
       "       'QTD_COMODO_DOMIC_FAM', 'QTD_DORM_FAM', 'QTD_PESSOA', 'QTD_MASC',\n",
       "       'RENDA_PROV_TRAB_REG', 'PERIODO_MAX_TRAB_MEMB', 'MEDIA_IDADE'],\n",
       "      dtype='object')"
      ]
     },
     "execution_count": 24,
     "metadata": {},
     "output_type": "execute_result"
    }
   ],
   "source": [
    "x_treino.columns"
   ]
  },
  {
   "cell_type": "markdown",
   "metadata": {},
   "source": [
    "### Seleciona variável\n",
    "##### procurando variáveis interessantes para o modelo "
   ]
  },
  {
   "cell_type": "code",
   "execution_count": 6,
   "metadata": {},
   "outputs": [],
   "source": [
    "from sklearn.feature_selection import SelectKBest\n",
    "from sklearn.feature_selection import chi2\n",
    "from sklearn.feature_selection import RFE #recursive feature eliminate\n",
    "from sklearn.linear_model import LinearRegression\n",
    "from sklearn.feature_selection import SelectFromModel\n",
    "from sklearn.ensemble import RandomForestRegressor"
   ]
  },
  {
   "cell_type": "code",
   "execution_count": 26,
   "metadata": {},
   "outputs": [],
   "source": [
    "best_select = SelectKBest(chi2, k=5)\n",
    "best_select.fit(explicativa, target)\n",
    "chi_select = best_select.get_support()"
   ]
  },
  {
   "cell_type": "code",
   "execution_count": 27,
   "metadata": {},
   "outputs": [],
   "source": [
    "rfe_sel =  RFE(estimator=LinearRegression(fit_intercept=True),\n",
    "                   step=10,\n",
    "                   n_features_to_select=5)\n",
    "rfe_sel.fit(explicativa,target)\n",
    "log_sel = rfe_sel.get_support()"
   ]
  },
  {
   "cell_type": "code",
   "execution_count": 28,
   "metadata": {},
   "outputs": [
    {
     "name": "stderr",
     "output_type": "stream",
     "text": [
      "c:\\users\\administrator\\appdata\\local\\programs\\python\\python37\\lib\\site-packages\\sklearn\\feature_selection\\_from_model.py:224: DataConversionWarning: A column-vector y was passed when a 1d array was expected. Please change the shape of y to (n_samples,), for example using ravel().\n",
      "  self.estimator_.fit(X, y, **fit_params)\n"
     ]
    }
   ],
   "source": [
    "rfr = SelectFromModel(RandomForestRegressor(random_state=42, n_estimators=100))\n",
    "rfr_sel = rfr.fit(explicativa, target)\n",
    "rfr_select = rfr_sel.get_support()"
   ]
  },
  {
   "cell_type": "code",
   "execution_count": 29,
   "metadata": {},
   "outputs": [
    {
     "data": {
      "text/plain": [
       "(array([False, False, False, False, False, False, False, False, False,\n",
       "        False, False, False, False, False, False, False, False, False,\n",
       "        False, False, False, False, False, False, False, False, False,\n",
       "        False, False, False, False, False, False, False, False, False,\n",
       "        False, False, False,  True, False, False, False, False, False,\n",
       "        False, False,  True, False, False, False, False,  True,  True,\n",
       "         True]),\n",
       " array([False, False, False, False, False, False, False, False, False,\n",
       "        False, False, False, False, False, False, False, False, False,\n",
       "         True, False, False, False, False, False, False, False, False,\n",
       "        False, False, False, False, False, False, False, False, False,\n",
       "        False, False, False,  True, False, False, False, False, False,\n",
       "         True, False,  True, False, False,  True, False, False, False,\n",
       "        False]),\n",
       " array([False, False, False, False, False, False, False, False, False,\n",
       "        False, False, False, False, False, False, False, False, False,\n",
       "        False, False, False, False, False, False, False, False, False,\n",
       "        False, False, False, False, False, False, False, False, False,\n",
       "        False, False, False,  True, False, False, False, False, False,\n",
       "        False, False,  True, False, False,  True, False,  True,  True,\n",
       "         True]))"
      ]
     },
     "execution_count": 29,
     "metadata": {},
     "output_type": "execute_result"
    }
   ],
   "source": [
    "chi_select, log_sel, rfr_select "
   ]
  },
  {
   "cell_type": "code",
   "execution_count": 31,
   "metadata": {},
   "outputs": [
    {
     "data": {
      "text/plain": [
       "(Index(['TM_BF_1', 'RENDAS_S', 'RENDA_PROV_TRAB_REG', 'PERIODO_MAX_TRAB_MEMB',\n",
       "        'MEDIA_IDADE'],\n",
       "       dtype='object'),\n",
       " Index(['MAT_PISO_FAMILIA_Outro_Material', 'TM_BF_1', 'ENSINO_Nenhum',\n",
       "        'RENDAS_S', 'QTD_PESSOA'],\n",
       "       dtype='object'),\n",
       " Index(['TM_BF_1', 'RENDAS_S', 'QTD_PESSOA', 'RENDA_PROV_TRAB_REG',\n",
       "        'PERIODO_MAX_TRAB_MEMB', 'MEDIA_IDADE'],\n",
       "       dtype='object'))"
      ]
     },
     "execution_count": 31,
     "metadata": {},
     "output_type": "execute_result"
    }
   ],
   "source": [
    "col = explicativa.columns\n",
    "col[chi_select], col[log_sel], col[rfr_select]"
   ]
  },
  {
   "cell_type": "markdown",
   "metadata": {},
   "source": [
    "## other "
   ]
  },
  {
   "cell_type": "code",
   "execution_count": 9,
   "metadata": {},
   "outputs": [],
   "source": [
    "var_sel = x_treino[['TM_BF_1',\n",
    "'RENDAS_S',\n",
    "'RENDA_PROV_TRAB_REG',\n",
    "'PERIODO_MAX_TRAB_MEMB',\n",
    "'MEDIA_IDADE',\n",
    "'ENSINO_Medio',\n",
    "'ENSINO_NAO_INFORMADO',\n",
    "'ENSINO_Nenhum',\n",
    "'ENSINO_PréVestibulareSuperior',\n",
    "'QTD_PESSOA' ,\n",
    "'MAT_PISO_FAMILIA_Cimento',\n",
    "'MAT_PISO_FAMILIA_Outro_Material',]]"
   ]
  },
  {
   "cell_type": "code",
   "execution_count": 13,
   "metadata": {
    "scrolled": false
   },
   "outputs": [
    {
     "name": "stderr",
     "output_type": "stream",
     "text": [
      "c:\\users\\administrator\\appdata\\local\\programs\\python\\python37\\lib\\site-packages\\sklearn\\utils\\validation.py:73: DataConversionWarning: A column-vector y was passed when a 1d array was expected. Please change the shape of y to (n_samples, ), for example using ravel().\n",
      "  return f(**kwargs)\n"
     ]
    },
    {
     "name": "stdout",
     "output_type": "stream",
     "text": [
      "      Iter       Train Loss   Remaining Time \n",
      "         1      134573.5796          347.17m\n",
      "         2      113880.5846          351.04m\n",
      "         3       97174.8581          347.66m\n",
      "         4       83686.9782          346.95m\n",
      "         5       72819.8702          341.09m\n",
      "         6       64003.7092          335.85m\n",
      "         7       56872.0735          331.23m\n",
      "         8       51108.3497          329.22m\n",
      "         9       46484.0032          326.84m\n",
      "        10       42745.7886          324.57m\n",
      "        11       39727.2868          320.82m\n",
      "        12       37299.8484          325.71m\n",
      "        13       35344.7490          331.18m\n",
      "        14       33759.8275          324.82m\n",
      "        15       32490.2248          315.49m\n",
      "        16       31466.7989          306.99m\n",
      "        17       30648.0513          299.24m\n",
      "        18       29984.3700          291.76m\n",
      "        19       29463.5509          284.76m\n",
      "        20       29033.6267          278.59m\n",
      "        21       28685.9976          272.64m\n",
      "        22       28404.0909          266.94m\n",
      "        23       28186.8787          261.53m\n",
      "        24       28003.3195          256.38m\n",
      "        25       27845.3627          254.89m\n",
      "        26       27727.5125          255.08m\n",
      "        27       27625.4429          254.49m\n",
      "        28       27548.3203          255.40m\n",
      "        29       27486.9848          256.66m\n",
      "        30       27437.9328          255.88m\n",
      "        31       27394.2849          254.70m\n",
      "        32       27356.6045          253.02m\n",
      "        33       27327.1151          252.88m\n",
      "        34       27306.6475          255.21m\n",
      "        35       27293.9028          258.74m\n",
      "        36       27278.0335          261.86m\n",
      "        37       27265.8855          264.35m\n",
      "        38       27254.8459          266.35m\n",
      "        39       27247.9432          267.88m\n",
      "        40       27047.3611          268.60m\n",
      "        41       26897.3170          268.72m\n",
      "        42       26823.0300          268.96m\n",
      "        43       26768.8478          268.31m\n",
      "        44       26728.5708          266.03m\n",
      "        45       26697.7424          264.52m\n",
      "        46       26684.8904          262.84m\n",
      "        47       26662.6458          260.52m\n",
      "        48       26657.9077          257.93m\n",
      "        49       26658.9824          255.52m\n",
      "        50       26658.2320          252.76m\n",
      "        51       26659.4061          249.61m\n",
      "        52       26663.4421          246.59m\n",
      "        53       26660.1584          243.55m\n",
      "        54       26657.8340          240.12m\n",
      "        55       26660.2804          236.38m\n",
      "        56       26664.7809          232.83m\n",
      "        57       26657.7303          229.20m\n",
      "        58       26656.5544          225.26m\n",
      "        59       26651.3740          220.82m\n",
      "        60       26646.9409          216.22m\n",
      "        61       26647.6438          211.46m\n",
      "        62       26644.9740          206.57m\n",
      "        63       26638.1675          201.83m\n",
      "        64       26634.7202          197.02m\n",
      "        65       26629.1744          192.22m\n",
      "        66       26624.9045          187.36m\n",
      "        67       26621.8152          183.11m\n",
      "        68       26618.1259          179.07m\n",
      "        69       26616.5166          174.08m\n",
      "        70       26594.8836          169.00m\n",
      "        71       26588.3252          163.74m\n",
      "        72       26581.0781          158.56m\n",
      "        73       26574.3446          153.43m\n",
      "        74       26557.3278          148.21m\n",
      "        75       26550.9010          142.96m\n",
      "        76       26543.9278          137.38m\n",
      "        77       26537.8099          132.06m\n",
      "        78       26527.0505          126.62m\n",
      "        79       26519.9334          121.03m\n",
      "        80       26515.4488          115.53m\n",
      "        81       26512.6374          110.15m\n",
      "        82       26504.1164          105.07m\n",
      "        83       26484.9299           99.71m\n",
      "        84       26476.9458           94.42m\n",
      "        85       26474.8461           88.77m\n",
      "        86       26469.7239           82.93m\n",
      "        87       26461.0560           76.93m\n",
      "        88       26452.8437           70.82m\n",
      "        89       26448.7533           64.71m\n",
      "        90       26444.6511           58.63m\n",
      "        91       26439.0685           52.62m\n",
      "        92       26423.4873           46.64m\n",
      "        93       26409.4088           40.68m\n",
      "        94       26402.6856           34.73m\n",
      "        95       26396.6672           28.82m\n",
      "        96       26384.5343           22.95m\n",
      "        97       26380.5671           17.14m\n",
      "        98       26376.4983           11.38m\n",
      "        99       26370.0395            5.67m\n",
      "       100       26360.9023            0.00s\n"
     ]
    }
   ],
   "source": [
    "bost = GradientBoostingRegressor(random_state=42,verbose=2, criterion='mae',max_depth=10,n_estimators=100)\n",
    "train = bost.fit(var_sel,y_treino)"
   ]
  },
  {
   "cell_type": "code",
   "execution_count": 22,
   "metadata": {},
   "outputs": [
    {
     "data": {
      "text/plain": [
       "['boost.pkl']"
      ]
     },
     "execution_count": 22,
     "metadata": {},
     "output_type": "execute_result"
    }
   ],
   "source": [
    "import joblib\n",
    "joblib.dump(train,\n",
    "           'boost.pkl',\n",
    "            compress = 1)"
   ]
  },
  {
   "cell_type": "code",
   "execution_count": 15,
   "metadata": {},
   "outputs": [],
   "source": [
    "pred = train.predict(var_sel)"
   ]
  },
  {
   "cell_type": "code",
   "execution_count": 16,
   "metadata": {},
   "outputs": [
    {
     "data": {
      "text/plain": [
       "0.8355308434401063"
      ]
     },
     "execution_count": 16,
     "metadata": {},
     "output_type": "execute_result"
    }
   ],
   "source": [
    "train.score(var_sel,y_treino)"
   ]
  },
  {
   "cell_type": "code",
   "execution_count": 18,
   "metadata": {},
   "outputs": [
    {
     "data": {
      "text/html": [
       "<div>\n",
       "<style scoped>\n",
       "    .dataframe tbody tr th:only-of-type {\n",
       "        vertical-align: middle;\n",
       "    }\n",
       "\n",
       "    .dataframe tbody tr th {\n",
       "        vertical-align: top;\n",
       "    }\n",
       "\n",
       "    .dataframe thead th {\n",
       "        text-align: right;\n",
       "    }\n",
       "</style>\n",
       "<table border=\"1\" class=\"dataframe\">\n",
       "  <thead>\n",
       "    <tr style=\"text-align: right;\">\n",
       "      <th></th>\n",
       "      <th>pred</th>\n",
       "      <th>real</th>\n",
       "      <th>residuo</th>\n",
       "    </tr>\n",
       "  </thead>\n",
       "  <tbody>\n",
       "    <tr>\n",
       "      <th>0</th>\n",
       "      <td>0.009673</td>\n",
       "      <td>0</td>\n",
       "      <td>-0.009673</td>\n",
       "    </tr>\n",
       "    <tr>\n",
       "      <th>1</th>\n",
       "      <td>953.984334</td>\n",
       "      <td>477</td>\n",
       "      <td>-476.984334</td>\n",
       "    </tr>\n",
       "    <tr>\n",
       "      <th>2</th>\n",
       "      <td>377.094040</td>\n",
       "      <td>381</td>\n",
       "      <td>3.905960</td>\n",
       "    </tr>\n",
       "    <tr>\n",
       "      <th>3</th>\n",
       "      <td>13.517945</td>\n",
       "      <td>13</td>\n",
       "      <td>-0.517945</td>\n",
       "    </tr>\n",
       "    <tr>\n",
       "      <th>4</th>\n",
       "      <td>953.984334</td>\n",
       "      <td>954</td>\n",
       "      <td>0.015666</td>\n",
       "    </tr>\n",
       "  </tbody>\n",
       "</table>\n",
       "</div>"
      ],
      "text/plain": [
       "         pred  real     residuo\n",
       "0    0.009673     0   -0.009673\n",
       "1  953.984334   477 -476.984334\n",
       "2  377.094040   381    3.905960\n",
       "3   13.517945    13   -0.517945\n",
       "4  953.984334   954    0.015666"
      ]
     },
     "execution_count": 18,
     "metadata": {},
     "output_type": "execute_result"
    }
   ],
   "source": [
    "predall = train.predict(var_sel)\n",
    "dadosall = pd.DataFrame()\n",
    "dadosall['pred'] = predall.tolist()\n",
    "dadosall['real'] = y_treino.VL_MED_FAM.tolist()\n",
    "dadosall['residuo'] = dadosall.real - dadosall.pred\n",
    "dadosall.head()"
   ]
  },
  {
   "cell_type": "code",
   "execution_count": null,
   "metadata": {},
   "outputs": [],
   "source": []
  },
  {
   "cell_type": "code",
   "execution_count": null,
   "metadata": {},
   "outputs": [],
   "source": []
  },
  {
   "cell_type": "code",
   "execution_count": 23,
   "metadata": {},
   "outputs": [],
   "source": [
    "var_selteste = x_teste[['TM_BF_1',\n",
    "'RENDAS_S',\n",
    "'RENDA_PROV_TRAB_REG',\n",
    "'PERIODO_MAX_TRAB_MEMB',\n",
    "'MEDIA_IDADE',\n",
    "'ENSINO_Medio',\n",
    "'ENSINO_NAO_INFORMADO',\n",
    "'ENSINO_Nenhum',\n",
    "'ENSINO_PréVestibulareSuperior',\n",
    "'QTD_PESSOA' ,\n",
    "'MAT_PISO_FAMILIA_Cimento',\n",
    "'MAT_PISO_FAMILIA_Outro_Material',]]"
   ]
  },
  {
   "cell_type": "code",
   "execution_count": 28,
   "metadata": {},
   "outputs": [
    {
     "data": {
      "text/html": [
       "<div>\n",
       "<style scoped>\n",
       "    .dataframe tbody tr th:only-of-type {\n",
       "        vertical-align: middle;\n",
       "    }\n",
       "\n",
       "    .dataframe tbody tr th {\n",
       "        vertical-align: top;\n",
       "    }\n",
       "\n",
       "    .dataframe thead th {\n",
       "        text-align: right;\n",
       "    }\n",
       "</style>\n",
       "<table border=\"1\" class=\"dataframe\">\n",
       "  <thead>\n",
       "    <tr style=\"text-align: right;\">\n",
       "      <th></th>\n",
       "      <th>pred</th>\n",
       "      <th>real</th>\n",
       "      <th>residuo</th>\n",
       "    </tr>\n",
       "  </thead>\n",
       "  <tbody>\n",
       "    <tr>\n",
       "      <th>0</th>\n",
       "      <td>48.927419</td>\n",
       "      <td>62</td>\n",
       "      <td>13.072581</td>\n",
       "    </tr>\n",
       "    <tr>\n",
       "      <th>1</th>\n",
       "      <td>-0.063128</td>\n",
       "      <td>0</td>\n",
       "      <td>0.063128</td>\n",
       "    </tr>\n",
       "    <tr>\n",
       "      <th>2</th>\n",
       "      <td>477.935078</td>\n",
       "      <td>477</td>\n",
       "      <td>-0.935078</td>\n",
       "    </tr>\n",
       "    <tr>\n",
       "      <th>3</th>\n",
       "      <td>311.510340</td>\n",
       "      <td>484</td>\n",
       "      <td>172.489660</td>\n",
       "    </tr>\n",
       "    <tr>\n",
       "      <th>4</th>\n",
       "      <td>198.197413</td>\n",
       "      <td>190</td>\n",
       "      <td>-8.197413</td>\n",
       "    </tr>\n",
       "  </tbody>\n",
       "</table>\n",
       "</div>"
      ],
      "text/plain": [
       "         pred  real     residuo\n",
       "0   48.927419    62   13.072581\n",
       "1   -0.063128     0    0.063128\n",
       "2  477.935078   477   -0.935078\n",
       "3  311.510340   484  172.489660\n",
       "4  198.197413   190   -8.197413"
      ]
     },
     "execution_count": 28,
     "metadata": {},
     "output_type": "execute_result"
    }
   ],
   "source": [
    "predteste = train.predict(var_selteste)\n",
    "dadosalltst = pd.DataFrame()\n",
    "dadosalltst['pred'] = predteste.tolist()\n",
    "dadosalltst['real'] = y_teste.VL_MED_FAM.tolist()\n",
    "dadosalltst['residuo'] = dadosalltst.real - dadosalltst.pred\n",
    "dadosalltst.head()\n"
   ]
  },
  {
   "cell_type": "code",
   "execution_count": 30,
   "metadata": {},
   "outputs": [
    {
     "name": "stdout",
     "output_type": "stream",
     "text": [
      "53.60168329509472 59.46973630475239\n"
     ]
    }
   ],
   "source": [
    "from sklearn.metrics import mean_absolute_error\n",
    "from sklearn.utils.validation import check_array\n",
    "print(mean_absolute_error(dadosall.real,dadosall.pred),mean_absolute_error(dadosalltst.real,dadosalltst.pred))\n"
   ]
  },
  {
   "cell_type": "code",
   "execution_count": 35,
   "metadata": {},
   "outputs": [
    {
     "name": "stdout",
     "output_type": "stream",
     "text": [
      "0.8355308434401063 , 0.8182918328023583\n"
     ]
    }
   ],
   "source": [
    "print('{} , {}'.format(train.score(var_sel,y_treino), train.score(var_selteste, y_teste)))"
   ]
  },
  {
   "cell_type": "code",
   "execution_count": null,
   "metadata": {},
   "outputs": [],
   "source": []
  },
  {
   "cell_type": "code",
   "execution_count": 37,
   "metadata": {},
   "outputs": [
    {
     "data": {
      "text/plain": [
       "(array([6.0000e+00, 4.7700e+02, 2.3000e+01, 9.0700e+02, 1.1160e+03,\n",
       "        5.1590e+03, 7.5479e+04, 2.5610e+03, 1.4890e+03, 3.0400e+02,\n",
       "        1.6700e+02, 5.9600e+02, 3.6000e+01, 1.7000e+01, 1.5000e+01,\n",
       "        1.8000e+01, 6.0000e+00, 0.0000e+00, 0.0000e+00, 1.0000e+00]),\n",
       " array([-1200.98591941, -1008.21331156,  -815.44070371,  -622.66809586,\n",
       "         -429.89548802,  -237.12288017,   -44.35027232,   148.42233553,\n",
       "          341.19494338,   533.96755123,   726.74015908,   919.51276693,\n",
       "         1112.28537478,  1305.05798263,  1497.83059048,  1690.60319833,\n",
       "         1883.37580618,  2076.14841403,  2268.92102188,  2461.69362972,\n",
       "         2654.46623757]),\n",
       " <a list of 20 Patch objects>)"
      ]
     },
     "execution_count": 37,
     "metadata": {},
     "output_type": "execute_result"
    },
    {
     "data": {
      "image/png": "[encoded data removed]",
      "text/plain": [
       "<Figure size 720x720 with 1 Axes>"
      ]
     },
     "metadata": {
      "needs_background": "light"
     },
     "output_type": "display_data"
    }
   ],
   "source": [
    "import matplotlib.pyplot as plt \n",
    "plt.subplots(1,1,figsize=(10,10))\n",
    "plt.hist(dadosall.residuo, color='#6ADBD9', bins=20)"
   ]
  }
 ],
 "metadata": {
  "kernelspec": {
   "display_name": "Python 3",
   "language": "python",
   "name": "python3"
  },
  "language_info": {
   "codemirror_mode": {
    "name": "ipython",
    "version": 3
   },
   "file_extension": ".py",
   "mimetype": "text/x-python",
   "name": "python",
   "nbconvert_exporter": "python",
   "pygments_lexer": "ipython3",
   "version": "3.8.3"
  }
 },
 "nbformat": 4,
 "nbformat_minor": 4
}
